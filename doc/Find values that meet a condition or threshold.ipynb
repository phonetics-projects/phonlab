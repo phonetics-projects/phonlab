{
 "cells": [
  {
   "cell_type": "markdown",
   "metadata": {},
   "source": [
    "# Find values that meet a condition or threshold\n",
    "\n",
    "This notebook explores how to find values in a numpy array that meet a condition, for example, meeting a threshold condition."
   ]
  },
  {
   "cell_type": "markdown",
   "metadata": {},
   "source": [
    "## A small example\n",
    "\n",
    "Start with a numpy array that contains a set of measurements."
   ]
  },
  {
   "cell_type": "code",
   "execution_count": 1,
   "metadata": {},
   "outputs": [
    {
     "name": "stdout",
     "output_type": "stream",
     "text": [
      "[0 1 2 3 2 1 0]\n"
     ]
    }
   ],
   "source": [
    "import numpy as np\n",
    "import pandas as pd\n",
    "import matplotlib.pyplot as plt\n",
    "from phonlab.array import nonzero_groups\n",
    "%matplotlib inline\n",
    "\n",
    "a = np.array([0,1,2,3,2,1,0], dtype=int)\n",
    "print(a)"
   ]
  },
  {
   "cell_type": "markdown",
   "metadata": {},
   "source": [
    "Next plot the values with filled circles. A horizontal line separates values above and below the threshold."
   ]
  },
  {
   "cell_type": "code",
   "execution_count": 2,
   "metadata": {},
   "outputs": [
    {
     "data": {
      "image/png": "[encoded data removed]",
      "text/plain": [
       "<Figure size 432x288 with 1 Axes>"
      ]
     },
     "metadata": {
      "needs_background": "light"
     },
     "output_type": "display_data"
    }
   ],
   "source": [
    "thresh = 1.5\n",
    "fig, ax = plt.subplots()\n",
    "ax.plot(a, 'o');\n",
    "ax.axhline(y=thresh);"
   ]
  },
  {
   "cell_type": "markdown",
   "metadata": {},
   "source": [
    "The values at indexes [0, 1, 5, 6] lie below the threshold, and [2, 3, 4] are above. We can find each set of values with integer indexing and boolean indexing."
   ]
  },
  {
   "cell_type": "markdown",
   "metadata": {},
   "source": [
    "### Find threshold values with boolean indexing\n",
    "\n",
    "A simple comparison creates a boolean index for values that are greater than the threshold. Negating that index returns True for elements that are less than or equal to the threshold."
   ]
  },
  {
   "cell_type": "code",
   "execution_count": 3,
   "metadata": {},
   "outputs": [
    {
     "name": "stdout",
     "output_type": "stream",
     "text": [
      "Above threshold:  [False False  True  True  True False False]\n",
      "Below threshold:  [ True  True False False False  True  True]\n"
     ]
    }
   ],
   "source": [
    "gtbool = a > thresh\n",
    "ltbool = ~gtbool      # OR: `ltbool = a <= thresh`\n",
    "print('Above threshold: ', gtbool)\n",
    "print('Below threshold: ', ltbool)"
   ]
  },
  {
   "cell_type": "markdown",
   "metadata": {},
   "source": [
    "You can use the boolean index to select elements from the array, to make a plot of values above the threshold, for instance."
   ]
  },
  {
   "cell_type": "code",
   "execution_count": 4,
   "metadata": {},
   "outputs": [
    {
     "data": {
      "image/png": "[encoded data removed]",
      "text/plain": [
       "<Figure size 432x288 with 1 Axes>"
      ]
     },
     "metadata": {
      "needs_background": "light"
     },
     "output_type": "display_data"
    }
   ],
   "source": [
    "plt.plot(a[gtbool], 'o')\n",
    "plt.ylim([0, 3.2])\n",
    "plt.axhline(y=thresh);"
   ]
  },
  {
   "cell_type": "markdown",
   "metadata": {},
   "source": [
    "In Pandas you can also assign the boolean index to a dataframe column for later querying."
   ]
  },
  {
   "cell_type": "code",
   "execution_count": 5,
   "metadata": {},
   "outputs": [
    {
     "data": {
      "text/html": [
       "<div>\n",
       "<style scoped>\n",
       "    .dataframe tbody tr th:only-of-type {\n",
       "        vertical-align: middle;\n",
       "    }\n",
       "\n",
       "    .dataframe tbody tr th {\n",
       "        vertical-align: top;\n",
       "    }\n",
       "\n",
       "    .dataframe thead th {\n",
       "        text-align: right;\n",
       "    }\n",
       "</style>\n",
       "<table border=\"1\" class=\"dataframe\">\n",
       "  <thead>\n",
       "    <tr style=\"text-align: right;\">\n",
       "      <th></th>\n",
       "      <th>meas</th>\n",
       "      <th>is_gt</th>\n",
       "    </tr>\n",
       "  </thead>\n",
       "  <tbody>\n",
       "    <tr>\n",
       "      <th>0</th>\n",
       "      <td>0</td>\n",
       "      <td>False</td>\n",
       "    </tr>\n",
       "    <tr>\n",
       "      <th>1</th>\n",
       "      <td>1</td>\n",
       "      <td>False</td>\n",
       "    </tr>\n",
       "    <tr>\n",
       "      <th>2</th>\n",
       "      <td>2</td>\n",
       "      <td>True</td>\n",
       "    </tr>\n",
       "    <tr>\n",
       "      <th>3</th>\n",
       "      <td>3</td>\n",
       "      <td>True</td>\n",
       "    </tr>\n",
       "    <tr>\n",
       "      <th>4</th>\n",
       "      <td>2</td>\n",
       "      <td>True</td>\n",
       "    </tr>\n",
       "    <tr>\n",
       "      <th>5</th>\n",
       "      <td>1</td>\n",
       "      <td>False</td>\n",
       "    </tr>\n",
       "    <tr>\n",
       "      <th>6</th>\n",
       "      <td>0</td>\n",
       "      <td>False</td>\n",
       "    </tr>\n",
       "  </tbody>\n",
       "</table>\n",
       "</div>"
      ],
      "text/plain": [
       "   meas  is_gt\n",
       "0     0  False\n",
       "1     1  False\n",
       "2     2   True\n",
       "3     3   True\n",
       "4     2   True\n",
       "5     1  False\n",
       "6     0  False"
      ]
     },
     "execution_count": 5,
     "metadata": {},
     "output_type": "execute_result"
    }
   ],
   "source": [
    "df = pd.DataFrame({'meas': a})\n",
    "df['is_gt'] = df['meas'] > thresh   # Add the boolean index column 'is_gt'\n",
    "df"
   ]
  },
  {
   "cell_type": "markdown",
   "metadata": {},
   "source": [
    "### Find the indexes of the threshold values\n",
    "\n",
    "Sometimes you need to know the indexes where the condition is met. This can be useful for including the X axis when plotting, for instance.\n",
    "\n",
    "The `np.nonzero()` function returns the indexes of an array that have nonzero values, which are `True` values for a boolean array. We use it with our condition to find the indexes of values above and below the threshold. `np.nonzero()` returns a tuple of arrays corresponding to the dimensions of the input array, and since our input is 1D we only need the first element of that tuple."
   ]
  },
  {
   "cell_type": "code",
   "execution_count": 6,
   "metadata": {},
   "outputs": [
    {
     "name": "stdout",
     "output_type": "stream",
     "text": [
      "[0 1 5 6] [2 3 4]\n"
     ]
    }
   ],
   "source": [
    "ltidx = (a <= thresh).nonzero()[0]   # [0] for first element of the tuple\n",
    "gtidx = (a > thresh).nonzero()[0]\n",
    "print(ltidx, gtidx)"
   ]
  },
  {
   "cell_type": "markdown",
   "metadata": {},
   "source": [
    "We plot the values on each side of the threshold separately, and the indexes returned by `np.nonzero()` help us plot correctly along the x-axis."
   ]
  },
  {
   "cell_type": "code",
   "execution_count": 7,
   "metadata": {},
   "outputs": [
    {
     "data": {
      "image/png": "[encoded data removed]",
      "text/plain": [
       "<Figure size 432x288 with 1 Axes>"
      ]
     },
     "metadata": {
      "needs_background": "light"
     },
     "output_type": "display_data"
    }
   ],
   "source": [
    "fig, ax = plt.subplots()\n",
    "ax.plot(ltidx, a[ltidx], 'o');\n",
    "ax.plot(gtidx, a[gtidx], 'D');\n",
    "ax.axhline(y=thresh);"
   ]
  },
  {
   "cell_type": "markdown",
   "metadata": {},
   "source": [
    "## Finding groups (runs) of values that meet the threshold\n",
    "\n",
    "Let's look at a slightly longer array with a duplicate of `a` at a larger magnitude and with two extra values added to the ends. Our goal is to find the groups of consecutive values that meet the threshold condition."
   ]
  },
  {
   "cell_type": "code",
   "execution_count": 8,
   "metadata": {},
   "outputs": [
    {
     "data": {
      "image/png": "[encoded data removed]",
      "text/plain": [
       "<Figure size 432x288 with 1 Axes>"
      ]
     },
     "metadata": {
      "needs_background": "light"
     },
     "output_type": "display_data"
    }
   ],
   "source": [
    "aa = np.hstack([2, a, a * 2, 2])\n",
    "fig, ax = plt.subplots()\n",
    "ax.plot(aa, 'o')\n",
    "ax.axhline(thresh);"
   ]
  },
  {
   "cell_type": "markdown",
   "metadata": {},
   "source": [
    "We select the indexes of values greater than the threshold and plot them separately. Notice that there are four separate regions along the X axis where values are greater than the threshold. These regions are indexes `[0]`, `[3, 4, 5]`, `[9, 10, 11, 12, 13]`, `[15]`."
   ]
  },
  {
   "cell_type": "code",
   "execution_count": 9,
   "metadata": {},
   "outputs": [
    {
     "name": "stdout",
     "output_type": "stream",
     "text": [
      "Below threshold:  [ 1  2  6  7  8 14]\n",
      "Above threshold:  [ 0  3  4  5  9 10 11 12 13 15]\n"
     ]
    },
    {
     "data": {
      "image/png": "[encoded data removed]",
      "text/plain": [
       "<Figure size 432x288 with 1 Axes>"
      ]
     },
     "metadata": {
      "needs_background": "light"
     },
     "output_type": "display_data"
    }
   ],
   "source": [
    "ltidx = (aa <= thresh).nonzero()[0]\n",
    "gtidx = (aa > thresh).nonzero()[0]\n",
    "print('Below threshold: ', ltidx)\n",
    "print('Above threshold: ', gtidx)\n",
    "fig, ax = plt.subplots()\n",
    "ax.plot(ltidx, aa[ltidx], 'o');\n",
    "ax.plot(gtidx, aa[gtidx], 'D');\n",
    "ax.axhline(y=thresh);"
   ]
  },
  {
   "cell_type": "markdown",
   "metadata": {},
   "source": [
    "The indexes of the values above the threshold are contained in `gtidx`, but they are not grouped. The `nonzero_groups` function (from `phonlab.utils`, not numpy!) returns the same indexes as `nonzero` does and additionally groups the indexes into consecutive sets."
   ]
  },
  {
   "cell_type": "code",
   "execution_count": 10,
   "metadata": {},
   "outputs": [
    {
     "data": {
      "text/plain": [
       "(array([0]), array([3, 4, 5]), array([ 9, 10, 11, 12, 13]), array([15]))"
      ]
     },
     "execution_count": 10,
     "metadata": {},
     "output_type": "execute_result"
    }
   ],
   "source": [
    "nonzero_groups(aa > thresh)"
   ]
  },
  {
   "cell_type": "markdown",
   "metadata": {},
   "source": [
    "Compare with the flattened result in `gtidx`."
   ]
  },
  {
   "cell_type": "code",
   "execution_count": 11,
   "metadata": {},
   "outputs": [
    {
     "data": {
      "text/plain": [
       "array([ 0,  3,  4,  5,  9, 10, 11, 12, 13, 15])"
      ]
     },
     "execution_count": 11,
     "metadata": {},
     "output_type": "execute_result"
    }
   ],
   "source": [
    "gtidx"
   ]
  },
  {
   "cell_type": "markdown",
   "metadata": {},
   "source": [
    "`nonzero_groups` also includes parameters for filtering the groups in the result. The `minlen` parameter filters out groups with fewer than a minimum number of elements. For example, if `minlen` is `3` then only groups with at least three elements are returned."
   ]
  },
  {
   "cell_type": "code",
   "execution_count": 12,
   "metadata": {},
   "outputs": [
    {
     "data": {
      "text/plain": [
       "(array([3, 4, 5]), array([ 9, 10, 11, 12, 13]))"
      ]
     },
     "execution_count": 12,
     "metadata": {},
     "output_type": "execute_result"
    }
   ],
   "source": [
    "nonzero_groups(aa > thresh, minlen=3)"
   ]
  },
  {
   "cell_type": "markdown",
   "metadata": {},
   "source": [
    "Sometimes you might want to retrieve one or more groups of elements that include one or more specific elements. For example, you might be interested in the highest value in an array and want to retrieve the consecutive group of values above a threshold that includes that value. The `include_any` parameter is used to provide one or more indexes that a group must include in order to be included in the result. Groups that include any index provided by `include_any` are part of the result set, and those that don't have at least one of the indexes provided by `include_any` are excluded."
   ]
  },
  {
   "cell_type": "code",
   "execution_count": 13,
   "metadata": {},
   "outputs": [
    {
     "name": "stdout",
     "output_type": "stream",
     "text": [
      "Index of max value: 11\n"
     ]
    },
    {
     "data": {
      "text/plain": [
       "(array([ 9, 10, 11, 12, 13]),)"
      ]
     },
     "execution_count": 13,
     "metadata": {},
     "output_type": "execute_result"
    }
   ],
   "source": [
    "maxidx = aa.argmax()\n",
    "print(f'Index of max value: {maxidx}')\n",
    "nonzero_groups(aa > thresh, include_any=maxidx)"
   ]
  },
  {
   "cell_type": "markdown",
   "metadata": {},
   "source": [
    "`include_any` can also provide a list of indexes."
   ]
  },
  {
   "cell_type": "code",
   "execution_count": 14,
   "metadata": {},
   "outputs": [
    {
     "data": {
      "text/plain": [
       "(array([0]), array([3, 4, 5]), array([ 9, 10, 11, 12, 13]))"
      ]
     },
     "execution_count": 14,
     "metadata": {},
     "output_type": "execute_result"
    }
   ],
   "source": [
    "nonzero_groups(aa > thresh, include_any=[0, 5, 12])"
   ]
  }
 ],
 "metadata": {
  "kernelspec": {
   "display_name": "Python 3 (ipykernel)",
   "language": "python",
   "name": "python3"
  },
  "language_info": {
   "codemirror_mode": {
    "name": "ipython",
    "version": 3
   },
   "file_extension": ".py",
   "mimetype": "text/x-python",
   "name": "python",
   "nbconvert_exporter": "python",
   "pygments_lexer": "ipython3",
   "version": "3.10.6"
  }
 },
 "nbformat": 4,
 "nbformat_minor": 2
}
