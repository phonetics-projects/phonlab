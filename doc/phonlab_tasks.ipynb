{
 "cells": [
  {
   "cell_type": "code",
   "execution_count": 1,
   "metadata": {},
   "outputs": [],
   "source": [
    "import os, sys\n",
    "import pandas as pd\n",
    "import subprocess\n",
    "from phonlab.utils import dir2df"
   ]
  },
  {
   "cell_type": "markdown",
   "metadata": {},
   "source": [
    "# Phonlab tasks\n",
    "\n",
    "This notebook contains short articles on common data analysis tasks you might need for your work in the Phonlab.\n",
    "\n",
    "1. [Mirror a directory structure](#mirror_directory)\n",
    "1. [Perform a task for every row in a DataFrame](#task_per_df_row)\n",
    "1. [Find rows in a source DataFrame that do not have a match in a second DataFrame](#find_non_matched_rows)\n"
   ]
  },
  {
   "cell_type": "markdown",
   "metadata": {},
   "source": [
    "## <a name=\"mirror_directory\"></a>Mirror a directory structure\n",
    "\n",
    "It can be very useful to copy the directory structure of one directory to another. For example, take a set of files in a source data directory `srcdir`, which we enumerate using [`dir2df()`](https://github.com/rsprouse/phonlab/blob/master/doc/Retrieving%20filenames%20in%20a%20directory%20tree%20with%20%60dir2df%28%29%60.ipynb):"
   ]
  },
  {
   "cell_type": "code",
   "execution_count": 2,
   "metadata": {},
   "outputs": [
    {
     "data": {
      "text/html": [
       "<div>\n",
       "<style scoped>\n",
       "    .dataframe tbody tr th:only-of-type {\n",
       "        vertical-align: middle;\n",
       "    }\n",
       "\n",
       "    .dataframe tbody tr th {\n",
       "        vertical-align: top;\n",
       "    }\n",
       "\n",
       "    .dataframe thead th {\n",
       "        text-align: right;\n",
       "    }\n",
       "</style>\n",
       "<table border=\"1\" class=\"dataframe\">\n",
       "  <thead>\n",
       "    <tr style=\"text-align: right;\">\n",
       "      <th></th>\n",
       "      <th>relpath</th>\n",
       "      <th>fname</th>\n",
       "    </tr>\n",
       "  </thead>\n",
       "  <tbody>\n",
       "    <tr>\n",
       "      <th>0</th>\n",
       "      <td>subj1/trial1</td>\n",
       "      <td>acq1.tg</td>\n",
       "    </tr>\n",
       "    <tr>\n",
       "      <th>1</th>\n",
       "      <td>subj1/trial1</td>\n",
       "      <td>acq1.wav</td>\n",
       "    </tr>\n",
       "    <tr>\n",
       "      <th>2</th>\n",
       "      <td>subj1/trial1</td>\n",
       "      <td>acq2.tg</td>\n",
       "    </tr>\n",
       "    <tr>\n",
       "      <th>3</th>\n",
       "      <td>subj1/trial1</td>\n",
       "      <td>acq2.wav</td>\n",
       "    </tr>\n",
       "    <tr>\n",
       "      <th>4</th>\n",
       "      <td>subj1/trial2</td>\n",
       "      <td>acq1.tg</td>\n",
       "    </tr>\n",
       "    <tr>\n",
       "      <th>5</th>\n",
       "      <td>subj1/trial2</td>\n",
       "      <td>acq1.wav</td>\n",
       "    </tr>\n",
       "    <tr>\n",
       "      <th>6</th>\n",
       "      <td>subj1/trial2</td>\n",
       "      <td>acq2.tg</td>\n",
       "    </tr>\n",
       "    <tr>\n",
       "      <th>7</th>\n",
       "      <td>subj1/trial2</td>\n",
       "      <td>acq2.wav</td>\n",
       "    </tr>\n",
       "    <tr>\n",
       "      <th>8</th>\n",
       "      <td>subj2/trial1</td>\n",
       "      <td>acq1.tg</td>\n",
       "    </tr>\n",
       "    <tr>\n",
       "      <th>9</th>\n",
       "      <td>subj2/trial1</td>\n",
       "      <td>acq1.wav</td>\n",
       "    </tr>\n",
       "    <tr>\n",
       "      <th>10</th>\n",
       "      <td>subj2/trial1</td>\n",
       "      <td>acq2.tg</td>\n",
       "    </tr>\n",
       "    <tr>\n",
       "      <th>11</th>\n",
       "      <td>subj2/trial1</td>\n",
       "      <td>acq2.wav</td>\n",
       "    </tr>\n",
       "    <tr>\n",
       "      <th>12</th>\n",
       "      <td>subj2/trial2</td>\n",
       "      <td>acq1.tg</td>\n",
       "    </tr>\n",
       "    <tr>\n",
       "      <th>13</th>\n",
       "      <td>subj2/trial2</td>\n",
       "      <td>acq1.wav</td>\n",
       "    </tr>\n",
       "    <tr>\n",
       "      <th>14</th>\n",
       "      <td>subj2/trial2</td>\n",
       "      <td>acq2.tg</td>\n",
       "    </tr>\n",
       "    <tr>\n",
       "      <th>15</th>\n",
       "      <td>subj2/trial2</td>\n",
       "      <td>acq2.wav</td>\n",
       "    </tr>\n",
       "  </tbody>\n",
       "</table>\n",
       "</div>"
      ],
      "text/plain": [
       "         relpath     fname\n",
       "0   subj1/trial1   acq1.tg\n",
       "1   subj1/trial1  acq1.wav\n",
       "2   subj1/trial1   acq2.tg\n",
       "3   subj1/trial1  acq2.wav\n",
       "4   subj1/trial2   acq1.tg\n",
       "5   subj1/trial2  acq1.wav\n",
       "6   subj1/trial2   acq2.tg\n",
       "7   subj1/trial2  acq2.wav\n",
       "8   subj2/trial1   acq1.tg\n",
       "9   subj2/trial1  acq1.wav\n",
       "10  subj2/trial1   acq2.tg\n",
       "11  subj2/trial1  acq2.wav\n",
       "12  subj2/trial2   acq1.tg\n",
       "13  subj2/trial2  acq1.wav\n",
       "14  subj2/trial2   acq2.tg\n",
       "15  subj2/trial2  acq2.wav"
      ]
     },
     "execution_count": 2,
     "metadata": {},
     "output_type": "execute_result"
    }
   ],
   "source": [
    "srcdir = '../resource/mirrorexp/orig_data'\n",
    "srcdf = dir2df(srcdir)\n",
    "srcdf"
   ]
  },
  {
   "cell_type": "markdown",
   "metadata": {},
   "source": [
    "The `srcdir` directory contains per-trial subdirectories nested in per-subject subdirectories of the toplevel directory. The unique set of subdirectory combinations is:"
   ]
  },
  {
   "cell_type": "code",
   "execution_count": 3,
   "metadata": {},
   "outputs": [
    {
     "data": {
      "text/plain": [
       "[subj1/trial1, subj1/trial2, subj2/trial1, subj2/trial2]\n",
       "Categories (4, object): [subj1/trial1, subj1/trial2, subj2/trial1, subj2/trial2]"
      ]
     },
     "execution_count": 3,
     "metadata": {},
     "output_type": "execute_result"
    }
   ],
   "source": [
    "unique_relpath = srcdf.relpath.unique()\n",
    "unique_relpath"
   ]
  },
  {
   "cell_type": "markdown",
   "metadata": {},
   "source": [
    "As part of your analysis workflow you wish to downsample all of the '.wav' files under `srcdir` using the `sox` command line utility and write the downsampled files to a cache directory `cachedir` that is separate from `srcdir`. To keep `cachedir` organized you will use the same directory structure as `srcdir`. Since `sox` will not create this directory structure for you, you must create the directory structure in `cachedir` first, then run `sox`.\n",
    "\n"
   ]
  },
  {
   "cell_type": "code",
   "execution_count": 4,
   "metadata": {},
   "outputs": [],
   "source": [
    "cachedir = '../resource/mirrorexp/ds_files'"
   ]
  },
  {
   "cell_type": "markdown",
   "metadata": {},
   "source": [
    "***WARNING:*** `cachedir` must not be contained anywhere under `srcdir`! The mirroring technique described in this article is very simple to implement but may produce unexpected results if `cachedir` is part of `srcdir`. It is okay if `cachedir` is a sibling of `srcdir`, e.g.:\n",
    "\n",
    "```\n",
    "# Acceptable organization of srcdir and cachedir in 'myexp'\n",
    "../resource/mirrorexp/orig_data    # srcdir\n",
    "../resource/mirrorexp/ds_files     # cachedir\n",
    "\n",
    "# This is not okay!\n",
    "../resource/mirrorexp/orig_data/ds_files  # cachedir contained in srcdir\n",
    "```"
   ]
  },
  {
   "cell_type": "markdown",
   "metadata": {},
   "source": [
    "The simple way to copy the structure is to loop over the unique set of relative paths that were found `srcdir` and create them in the `cachedir` using [os.makedirs()](https://docs.python.org/3/library/os.html#os.makedirs).\n",
    "\n",
    "The following cell will copy the `srcdir` directory structure to `cachedir` and print a success message if it succeeds. A problem with creating a directory in `cachedir` will raise an error instead."
   ]
  },
  {
   "cell_type": "code",
   "execution_count": 6,
   "metadata": {},
   "outputs": [
    {
     "name": "stderr",
     "output_type": "stream",
     "text": [
      "Directory mirroring succeeded."
     ]
    }
   ],
   "source": [
    "for destdir in unique_relpath:\n",
    "    os.makedirs(\n",
    "        os.path.join(cachedir, destdir),  # e.g. ../resource/mirrorexp/ds_files/subj1/trial1\n",
    "        exist_ok=True\n",
    "    )\n",
    "sys.stderr.write('Directory mirroring succeeded.')"
   ]
  },
  {
   "cell_type": "markdown",
   "metadata": {},
   "source": [
    "The `os.makedirs()` function automatically creates parent directories where necessary. For instance, the first relative path in the example above is `subj1/trial1`, and the first call to `os.makedirs()` is a request to create the directory `../resource/mirrorexp/ds_files/subj1/trial1`. If `../resource/mirrorexp/ds_files/subj1` does not exist already, then that directory will be created first.\n",
    "\n",
    "The `exist_ok=True` means that `os.makedirs()` will not raise an error if the target directory already exists. This behavior is convenient for mirroring a `srcdir` incrementally. If you add `subj3/trial1` and `subj3/trial2` directories after running the above cell, then you can simply append them to `relpath` and re-rerun the loop without raising an error for the existing directories under `subj1` and`subj2`."
   ]
  },
  {
   "cell_type": "markdown",
   "metadata": {},
   "source": [
    "Now that the output directories are created in `cachedir` you can run `sox` (or whatever process you want) and use locations in `cachedir` as the places to write the output files."
   ]
  },
  {
   "cell_type": "markdown",
   "metadata": {},
   "source": [
    "## <a name=\"task_per_df_row\"></a>Perform a task for every row in a DataFrame\n",
    "\n",
    "Sometimes it is useful to iterate over the rows of a DataFrame and perform a task that uses the row values. This is a common need in post-processing, for example, if the DataFrame contains names of data files and you want to run a command line utility to do some analysis on each.\n",
    "\n",
    "In this section we'll start with a DataFrame that contains names of '.wav' files, and we'll construct a function for doing formant analysis."
   ]
  },
  {
   "cell_type": "code",
   "execution_count": 7,
   "metadata": {},
   "outputs": [
    {
     "data": {
      "text/html": [
       "<div>\n",
       "<style scoped>\n",
       "    .dataframe tbody tr th:only-of-type {\n",
       "        vertical-align: middle;\n",
       "    }\n",
       "\n",
       "    .dataframe tbody tr th {\n",
       "        vertical-align: top;\n",
       "    }\n",
       "\n",
       "    .dataframe thead th {\n",
       "        text-align: right;\n",
       "    }\n",
       "</style>\n",
       "<table border=\"1\" class=\"dataframe\">\n",
       "  <thead>\n",
       "    <tr style=\"text-align: right;\">\n",
       "      <th></th>\n",
       "      <th>relpath</th>\n",
       "      <th>fname</th>\n",
       "      <th>barename</th>\n",
       "      <th>ext</th>\n",
       "      <th>speaker</th>\n",
       "    </tr>\n",
       "  </thead>\n",
       "  <tbody>\n",
       "    <tr>\n",
       "      <th>0</th>\n",
       "      <td>dir1</td>\n",
       "      <td>file1.wav</td>\n",
       "      <td>file1</td>\n",
       "      <td>.wav</td>\n",
       "      <td>female</td>\n",
       "    </tr>\n",
       "    <tr>\n",
       "      <th>1</th>\n",
       "      <td>dir1</td>\n",
       "      <td>file2.wav</td>\n",
       "      <td>file2</td>\n",
       "      <td>.wav</td>\n",
       "      <td>female</td>\n",
       "    </tr>\n",
       "    <tr>\n",
       "      <th>2</th>\n",
       "      <td>dir2</td>\n",
       "      <td>file3.wav</td>\n",
       "      <td>file3</td>\n",
       "      <td>.wav</td>\n",
       "      <td>male</td>\n",
       "    </tr>\n",
       "  </tbody>\n",
       "</table>\n",
       "</div>"
      ],
      "text/plain": [
       "  relpath      fname barename   ext speaker\n",
       "0    dir1  file1.wav    file1  .wav  female\n",
       "1    dir1  file2.wav    file2  .wav  female\n",
       "2    dir2  file3.wav    file3  .wav    male"
      ]
     },
     "execution_count": 7,
     "metadata": {},
     "output_type": "execute_result"
    }
   ],
   "source": [
    "df = pd.DataFrame.from_records([\n",
    "    ('dir1', 'file1.wav', 'file1', '.wav', 'female'),\n",
    "    ('dir1', 'file2.wav', 'file2', '.wav', 'female'),\n",
    "    ('dir2', 'file3.wav', 'file3', '.wav', 'male')\n",
    "], columns=['relpath', 'fname', 'barename', 'ext', 'speaker'])\n",
    "df"
   ]
  },
  {
   "cell_type": "markdown",
   "metadata": {},
   "source": [
    "The DataFrame [`itertuples()` method](https://pandas.pydata.org/pandas-docs/stable/generated/pandas.DataFrame.itertuples.html#pandas.DataFrame.itertuples) iterates over the rows of a DataFrame and returns each row as a [namedtuple](https://docs.python.org/3/library/collections.html#collections.namedtuple).\n",
    "\n",
    "Here is a simple example that prints the values that `itertuples()` returns:"
   ]
  },
  {
   "cell_type": "code",
   "execution_count": 8,
   "metadata": {},
   "outputs": [
    {
     "name": "stdout",
     "output_type": "stream",
     "text": [
      "Pandas(Index=0, relpath='dir1', fname='file1.wav', barename='file1', ext='.wav', speaker='female')\n",
      "Pandas(Index=1, relpath='dir1', fname='file2.wav', barename='file2', ext='.wav', speaker='female')\n",
      "Pandas(Index=2, relpath='dir2', fname='file3.wav', barename='file3', ext='.wav', speaker='male')\n"
     ]
    }
   ],
   "source": [
    "for row in df.itertuples():\n",
    "    print(row)"
   ]
  },
  {
   "cell_type": "markdown",
   "metadata": {},
   "source": [
    "Notice that the value of the row index is added as the first value and is named 'Index'. The DataFrame column labels are the other attributes and are easily accessed by name with attribute '.' notation:"
   ]
  },
  {
   "cell_type": "code",
   "execution_count": 10,
   "metadata": {},
   "outputs": [
    {
     "name": "stdout",
     "output_type": "stream",
     "text": [
      "file1.wav\n",
      "file2.wav\n",
      "file3.wav\n"
     ]
    }
   ],
   "source": [
    "for row in df.itertuples():\n",
    "    print(row.fname)"
   ]
  },
  {
   "cell_type": "markdown",
   "metadata": {},
   "source": [
    "***Aside:*** You might come across a similarly named method `iterrows()`, and it is recommended that you avoid it. The `iterrows()` method is less convenient than `itertuples()` because 1) it doesn't provide access to column values by name; and 2) it is slower to execute than `itertuples()`."
   ]
  },
  {
   "cell_type": "markdown",
   "metadata": {},
   "source": [
    "It makes sense to put your task in a named function when the task you wish to perform is more complicated than a simple print statement. Doing so helps make your code easier to debug, and you can re-use the function in multiple places.\n",
    "\n",
    "The `my_print` function uses `os.path.join` to construct a filepath from the 'relpath' and 'fname' attributes of a row and prints the result. The `for` loop calls `my_print` on each row in turn."
   ]
  },
  {
   "cell_type": "code",
   "execution_count": 11,
   "metadata": {},
   "outputs": [
    {
     "name": "stdout",
     "output_type": "stream",
     "text": [
      "female\n",
      "dir1/file1.ifc\n",
      "dir1/file1.wav\n",
      "******************\n",
      "female\n",
      "dir1/file2.ifc\n",
      "dir1/file2.wav\n",
      "******************\n",
      "male\n",
      "dir2/file3.ifc\n",
      "dir2/file3.wav\n",
      "******************\n"
     ]
    }
   ],
   "source": [
    "# Function definition.\n",
    "def my_print(rowtuple):\n",
    "    '''Print values from a DataFrame row provided as a namedtuple.'''\n",
    "    print(rowtuple.speaker)\n",
    "    print(os.path.join(rowtuple.relpath, rowtuple.barename + '.ifc'))\n",
    "    print(os.path.join(rowtuple.relpath, rowtuple.fname))\n",
    "    print('******************')\n",
    "\n",
    "# Loop over rows and call the `my_print` function.\n",
    "for row in df.itertuples():\n",
    "    my_print(row)"
   ]
  },
  {
   "cell_type": "markdown",
   "metadata": {},
   "source": [
    "### The `ifcformant` function\n",
    "\n",
    "Now that we know the mechanics of calling a named function for every row in the DataFrame, let's construct a function that runs the `ifcformant` command using the parameters provided by a namedtuple.\n",
    "\n",
    "If we were working at the command line, a representative example of calling `ifcformant` is:\n",
    "\n",
    "```\n",
    "ifcformant --speaker female --print-header --output myfile.ifc myfile.wav\n",
    "```\n",
    "\n",
    "The arguments to `ifcformant` include the speaker type, name of the output file to contain the formant measurements, and the input '.wav' file. The `--print-header` argument is used to print column labels as the first row of the output file.\n",
    "\n",
    "The `do_ifcformant` function shown below constructs an array of arguments from an input namedtuple and output directory, then uses the [`subprocess`](https://docs.python.org/3/library/subprocess.html) module to execute `ifcformant`.\n"
   ]
  },
  {
   "cell_type": "code",
   "execution_count": 14,
   "metadata": {},
   "outputs": [],
   "source": [
    "def do_ifcformant(rt, outdir, errors='raise'):\n",
    "    '''Perform formant analysis with the ifcformant command.\n",
    "    \n",
    "    Parameters\n",
    "    ----------\n",
    "    \n",
    "    rt : namedtuple that contains formant analysis parameters\n",
    "         in fields:\n",
    "         'relpath' (relative path to audio file),\n",
    "         'fname' (name of .wav file),\n",
    "         'barename' (name of .wav file without extension)\n",
    "         'speaker' (ifcformant speaker type, one of 'female',\n",
    "             'male', 'child')\n",
    "             \n",
    "    outdir : str\n",
    "        Base pathname to ifcformant output. The output file will\n",
    "        be written to: outdir/rt.relpath/rt.barename + '.ifc'.\n",
    "             \n",
    "    errors : str (default 'raise')\n",
    "        How to handle errors if `check_call()` fails. If\n",
    "        'ignore', print debug statement to STDERR and return the\n",
    "        ifcformant return code; if 'raise' immediately reraise\n",
    "        the CalledProcessError.\n",
    "        \n",
    "    Returns\n",
    "    -------\n",
    "    \n",
    "    The `ifcformant` return code is returned by this function,\n",
    "    0 for success or non-zero for errors.\n",
    "    '''\n",
    "    ifcargs = [\n",
    "        'ifcformant',\n",
    "        'speaker', rt.speaker,\n",
    "        '--print-header',\n",
    "        '--output', os.path.join(\n",
    "            outdir, rt.relpath, rt.barename + '.ifc'\n",
    "        ),\n",
    "        os.path.join(rt.relpath, rt.fname)\n",
    "    ]\n",
    "    try:\n",
    "        subprocess.check_call(ifcargs)\n",
    "    except subprocess.CalledProcessError as e:\n",
    "        if errors == 'ignore':\n",
    "            msg = 'Caught error while invoking ifcformant:\\n{:}'.format(e)\n",
    "            sys.stderr.write(msg)\n",
    "            return e.returncode\n",
    "        else:\n",
    "            raise e\n",
    "    return 0"
   ]
  },
  {
   "cell_type": "markdown",
   "metadata": {},
   "source": [
    "It's always best to include a docstring at the top of your named functions. This helps you document your workflow and to possibly re-use the function in another project. Execute the following cell to see the documentation for the new function."
   ]
  },
  {
   "cell_type": "code",
   "execution_count": 16,
   "metadata": {},
   "outputs": [],
   "source": [
    "do_ifcformant?"
   ]
  },
  {
   "cell_type": "markdown",
   "metadata": {},
   "source": [
    "Once your function is created and debugged, use `itertuples()` to run the function on every row of your DataFrame."
   ]
  },
  {
   "cell_type": "code",
   "execution_count": 17,
   "metadata": {},
   "outputs": [
    {
     "ename": "FileNotFoundError",
     "evalue": "[Errno 2] No such file or directory: 'ifcformant': 'ifcformant'",
     "output_type": "error",
     "traceback": [
      "\u001b[0;31m---------------------------------------------------------------------------\u001b[0m",
      "\u001b[0;31mFileNotFoundError\u001b[0m                         Traceback (most recent call last)",
      "\u001b[0;32m<ipython-input-17-1aab912e22c1>\u001b[0m in \u001b[0;36m<module>\u001b[0;34m()\u001b[0m\n\u001b[1;32m      1\u001b[0m \u001b[0;32mfor\u001b[0m \u001b[0mrow\u001b[0m \u001b[0;32min\u001b[0m \u001b[0mdf\u001b[0m\u001b[0;34m.\u001b[0m\u001b[0mitertuples\u001b[0m\u001b[0;34m(\u001b[0m\u001b[0;34m)\u001b[0m\u001b[0;34m:\u001b[0m\u001b[0;34m\u001b[0m\u001b[0m\n\u001b[0;32m----> 2\u001b[0;31m     \u001b[0mdo_ifcformant\u001b[0m\u001b[0;34m(\u001b[0m\u001b[0mrow\u001b[0m\u001b[0;34m,\u001b[0m \u001b[0moutdir\u001b[0m\u001b[0;34m=\u001b[0m\u001b[0;34m'~/myexp/cache'\u001b[0m\u001b[0;34m)\u001b[0m\u001b[0;34m\u001b[0m\u001b[0m\n\u001b[0m\u001b[1;32m      3\u001b[0m \u001b[0;34m\u001b[0m\u001b[0m\n",
      "\u001b[0;32m<ipython-input-14-5c885596c7fc>\u001b[0m in \u001b[0;36mdo_ifcformant\u001b[0;34m(rt, outdir, errors)\u001b[0m\n\u001b[1;32m     39\u001b[0m     ]\n\u001b[1;32m     40\u001b[0m     \u001b[0;32mtry\u001b[0m\u001b[0;34m:\u001b[0m\u001b[0;34m\u001b[0m\u001b[0m\n\u001b[0;32m---> 41\u001b[0;31m         \u001b[0msubprocess\u001b[0m\u001b[0;34m.\u001b[0m\u001b[0mcheck_call\u001b[0m\u001b[0;34m(\u001b[0m\u001b[0mifcargs\u001b[0m\u001b[0;34m)\u001b[0m\u001b[0;34m\u001b[0m\u001b[0m\n\u001b[0m\u001b[1;32m     42\u001b[0m     \u001b[0;32mexcept\u001b[0m \u001b[0msubprocess\u001b[0m\u001b[0;34m.\u001b[0m\u001b[0mCalledProcessError\u001b[0m \u001b[0;32mas\u001b[0m \u001b[0me\u001b[0m\u001b[0;34m:\u001b[0m\u001b[0;34m\u001b[0m\u001b[0m\n\u001b[1;32m     43\u001b[0m         \u001b[0;32mif\u001b[0m \u001b[0merrors\u001b[0m \u001b[0;34m==\u001b[0m \u001b[0;34m'ignore'\u001b[0m\u001b[0;34m:\u001b[0m\u001b[0;34m\u001b[0m\u001b[0m\n",
      "\u001b[0;32m/Users/ronald/anaconda3/lib/python3.6/subprocess.py\u001b[0m in \u001b[0;36mcheck_call\u001b[0;34m(*popenargs, **kwargs)\u001b[0m\n\u001b[1;32m    284\u001b[0m     \u001b[0mcheck_call\u001b[0m\u001b[0;34m(\u001b[0m\u001b[0;34m[\u001b[0m\u001b[0;34m\"ls\"\u001b[0m\u001b[0;34m,\u001b[0m \u001b[0;34m\"-l\"\u001b[0m\u001b[0;34m]\u001b[0m\u001b[0;34m)\u001b[0m\u001b[0;34m\u001b[0m\u001b[0m\n\u001b[1;32m    285\u001b[0m     \"\"\"\n\u001b[0;32m--> 286\u001b[0;31m     \u001b[0mretcode\u001b[0m \u001b[0;34m=\u001b[0m \u001b[0mcall\u001b[0m\u001b[0;34m(\u001b[0m\u001b[0;34m*\u001b[0m\u001b[0mpopenargs\u001b[0m\u001b[0;34m,\u001b[0m \u001b[0;34m**\u001b[0m\u001b[0mkwargs\u001b[0m\u001b[0;34m)\u001b[0m\u001b[0;34m\u001b[0m\u001b[0m\n\u001b[0m\u001b[1;32m    287\u001b[0m     \u001b[0;32mif\u001b[0m \u001b[0mretcode\u001b[0m\u001b[0;34m:\u001b[0m\u001b[0;34m\u001b[0m\u001b[0m\n\u001b[1;32m    288\u001b[0m         \u001b[0mcmd\u001b[0m \u001b[0;34m=\u001b[0m \u001b[0mkwargs\u001b[0m\u001b[0;34m.\u001b[0m\u001b[0mget\u001b[0m\u001b[0;34m(\u001b[0m\u001b[0;34m\"args\"\u001b[0m\u001b[0;34m)\u001b[0m\u001b[0;34m\u001b[0m\u001b[0m\n",
      "\u001b[0;32m/Users/ronald/anaconda3/lib/python3.6/subprocess.py\u001b[0m in \u001b[0;36mcall\u001b[0;34m(timeout, *popenargs, **kwargs)\u001b[0m\n\u001b[1;32m    265\u001b[0m     \u001b[0mretcode\u001b[0m \u001b[0;34m=\u001b[0m \u001b[0mcall\u001b[0m\u001b[0;34m(\u001b[0m\u001b[0;34m[\u001b[0m\u001b[0;34m\"ls\"\u001b[0m\u001b[0;34m,\u001b[0m \u001b[0;34m\"-l\"\u001b[0m\u001b[0;34m]\u001b[0m\u001b[0;34m)\u001b[0m\u001b[0;34m\u001b[0m\u001b[0m\n\u001b[1;32m    266\u001b[0m     \"\"\"\n\u001b[0;32m--> 267\u001b[0;31m     \u001b[0;32mwith\u001b[0m \u001b[0mPopen\u001b[0m\u001b[0;34m(\u001b[0m\u001b[0;34m*\u001b[0m\u001b[0mpopenargs\u001b[0m\u001b[0;34m,\u001b[0m \u001b[0;34m**\u001b[0m\u001b[0mkwargs\u001b[0m\u001b[0;34m)\u001b[0m \u001b[0;32mas\u001b[0m \u001b[0mp\u001b[0m\u001b[0;34m:\u001b[0m\u001b[0;34m\u001b[0m\u001b[0m\n\u001b[0m\u001b[1;32m    268\u001b[0m         \u001b[0;32mtry\u001b[0m\u001b[0;34m:\u001b[0m\u001b[0;34m\u001b[0m\u001b[0m\n\u001b[1;32m    269\u001b[0m             \u001b[0;32mreturn\u001b[0m \u001b[0mp\u001b[0m\u001b[0;34m.\u001b[0m\u001b[0mwait\u001b[0m\u001b[0;34m(\u001b[0m\u001b[0mtimeout\u001b[0m\u001b[0;34m=\u001b[0m\u001b[0mtimeout\u001b[0m\u001b[0;34m)\u001b[0m\u001b[0;34m\u001b[0m\u001b[0m\n",
      "\u001b[0;32m/Users/ronald/anaconda3/lib/python3.6/subprocess.py\u001b[0m in \u001b[0;36m__init__\u001b[0;34m(self, args, bufsize, executable, stdin, stdout, stderr, preexec_fn, close_fds, shell, cwd, env, universal_newlines, startupinfo, creationflags, restore_signals, start_new_session, pass_fds, encoding, errors)\u001b[0m\n\u001b[1;32m    707\u001b[0m                                 \u001b[0mc2pread\u001b[0m\u001b[0;34m,\u001b[0m \u001b[0mc2pwrite\u001b[0m\u001b[0;34m,\u001b[0m\u001b[0;34m\u001b[0m\u001b[0m\n\u001b[1;32m    708\u001b[0m                                 \u001b[0merrread\u001b[0m\u001b[0;34m,\u001b[0m \u001b[0merrwrite\u001b[0m\u001b[0;34m,\u001b[0m\u001b[0;34m\u001b[0m\u001b[0m\n\u001b[0;32m--> 709\u001b[0;31m                                 restore_signals, start_new_session)\n\u001b[0m\u001b[1;32m    710\u001b[0m         \u001b[0;32mexcept\u001b[0m\u001b[0;34m:\u001b[0m\u001b[0;34m\u001b[0m\u001b[0m\n\u001b[1;32m    711\u001b[0m             \u001b[0;31m# Cleanup if the child failed starting.\u001b[0m\u001b[0;34m\u001b[0m\u001b[0;34m\u001b[0m\u001b[0m\n",
      "\u001b[0;32m/Users/ronald/anaconda3/lib/python3.6/subprocess.py\u001b[0m in \u001b[0;36m_execute_child\u001b[0;34m(self, args, executable, preexec_fn, close_fds, pass_fds, cwd, env, startupinfo, creationflags, shell, p2cread, p2cwrite, c2pread, c2pwrite, errread, errwrite, restore_signals, start_new_session)\u001b[0m\n\u001b[1;32m   1342\u001b[0m                         \u001b[0;32mif\u001b[0m \u001b[0merrno_num\u001b[0m \u001b[0;34m==\u001b[0m \u001b[0merrno\u001b[0m\u001b[0;34m.\u001b[0m\u001b[0mENOENT\u001b[0m\u001b[0;34m:\u001b[0m\u001b[0;34m\u001b[0m\u001b[0m\n\u001b[1;32m   1343\u001b[0m                             \u001b[0merr_msg\u001b[0m \u001b[0;34m+=\u001b[0m \u001b[0;34m': '\u001b[0m \u001b[0;34m+\u001b[0m \u001b[0mrepr\u001b[0m\u001b[0;34m(\u001b[0m\u001b[0merr_filename\u001b[0m\u001b[0;34m)\u001b[0m\u001b[0;34m\u001b[0m\u001b[0m\n\u001b[0;32m-> 1344\u001b[0;31m                     \u001b[0;32mraise\u001b[0m \u001b[0mchild_exception_type\u001b[0m\u001b[0;34m(\u001b[0m\u001b[0merrno_num\u001b[0m\u001b[0;34m,\u001b[0m \u001b[0merr_msg\u001b[0m\u001b[0;34m,\u001b[0m \u001b[0merr_filename\u001b[0m\u001b[0;34m)\u001b[0m\u001b[0;34m\u001b[0m\u001b[0m\n\u001b[0m\u001b[1;32m   1345\u001b[0m                 \u001b[0;32mraise\u001b[0m \u001b[0mchild_exception_type\u001b[0m\u001b[0;34m(\u001b[0m\u001b[0merr_msg\u001b[0m\u001b[0;34m)\u001b[0m\u001b[0;34m\u001b[0m\u001b[0m\n\u001b[1;32m   1346\u001b[0m \u001b[0;34m\u001b[0m\u001b[0m\n",
      "\u001b[0;31mFileNotFoundError\u001b[0m: [Errno 2] No such file or directory: 'ifcformant': 'ifcformant'"
     ]
    }
   ],
   "source": [
    "for row in df.itertuples():\n",
    "    do_ifcformant(row, outdir='~/myexp/cache')\n",
    "    "
   ]
  },
  {
   "cell_type": "markdown",
   "metadata": {},
   "source": [
    "## <a name=\"find_non_matched_rows\"></a>Find rows in a source DataFrame that do not have a match in a second DataFrame\n",
    "\n",
    "If you have a source DataFrame and want to check whether a second DataFrame has a corresponding row, you can use a left merge with the source on the lefthand side. A left merge returns all of the merge keys from the lefthand DataFrame regardless of whether a matching key is found on the right. When there is no match, the columns from the right DataFrame are filled with NaN.\n",
    "\n",
    "A common use case for this merge is for finding files that require post-processing. If you have a set of source filenames (e.g. '.wav' files) in one DataFrame and a set of existing post-processed filenames (e.g. '.fb' files from the `formant` command) in another, you can use the merge described in this section to find the source filenames that don't have a matching post-processed file. These are the ones that require post-processing.\n",
    "\n",
    "For this example the source DataFrame will be the left DataFrame `ldf`. It contains a list of '.wav' filenames, parsed into a barename and extension."
   ]
  },
  {
   "cell_type": "code",
   "execution_count": 18,
   "metadata": {},
   "outputs": [
    {
     "data": {
      "text/html": [
       "<div>\n",
       "<style scoped>\n",
       "    .dataframe tbody tr th:only-of-type {\n",
       "        vertical-align: middle;\n",
       "    }\n",
       "\n",
       "    .dataframe tbody tr th {\n",
       "        vertical-align: top;\n",
       "    }\n",
       "\n",
       "    .dataframe thead th {\n",
       "        text-align: right;\n",
       "    }\n",
       "</style>\n",
       "<table border=\"1\" class=\"dataframe\">\n",
       "  <thead>\n",
       "    <tr style=\"text-align: right;\">\n",
       "      <th></th>\n",
       "      <th>fname</th>\n",
       "      <th>barename</th>\n",
       "      <th>ext</th>\n",
       "    </tr>\n",
       "  </thead>\n",
       "  <tbody>\n",
       "    <tr>\n",
       "      <th>0</th>\n",
       "      <td>file1.wav</td>\n",
       "      <td>file1</td>\n",
       "      <td>.wav</td>\n",
       "    </tr>\n",
       "    <tr>\n",
       "      <th>1</th>\n",
       "      <td>file2.wav</td>\n",
       "      <td>file2</td>\n",
       "      <td>.wav</td>\n",
       "    </tr>\n",
       "    <tr>\n",
       "      <th>2</th>\n",
       "      <td>file3.wav</td>\n",
       "      <td>file3</td>\n",
       "      <td>.wav</td>\n",
       "    </tr>\n",
       "  </tbody>\n",
       "</table>\n",
       "</div>"
      ],
      "text/plain": [
       "       fname barename   ext\n",
       "0  file1.wav    file1  .wav\n",
       "1  file2.wav    file2  .wav\n",
       "2  file3.wav    file3  .wav"
      ]
     },
     "execution_count": 18,
     "metadata": {},
     "output_type": "execute_result"
    }
   ],
   "source": [
    "ldf = pd.DataFrame.from_records([\n",
    "    ('file1.wav', 'file1', '.wav'),\n",
    "    ('file2.wav', 'file2', '.wav'),\n",
    "    ('file3.wav', 'file3', '.wav')\n",
    "], columns=['fname', 'barename', 'ext'])\n",
    "ldf"
   ]
  },
  {
   "cell_type": "markdown",
   "metadata": {},
   "source": [
    "The `rdf` DataFrame has a corresponding set of filenames that have the same barenames as `ldf` with different extensions. Notice that it does not contain a filename that corresponds to the 'file2' barename in `ldf`. It does contain a barename not found in `ldf` ('file4')."
   ]
  },
  {
   "cell_type": "code",
   "execution_count": 19,
   "metadata": {},
   "outputs": [
    {
     "data": {
      "text/html": [
       "<div>\n",
       "<style scoped>\n",
       "    .dataframe tbody tr th:only-of-type {\n",
       "        vertical-align: middle;\n",
       "    }\n",
       "\n",
       "    .dataframe tbody tr th {\n",
       "        vertical-align: top;\n",
       "    }\n",
       "\n",
       "    .dataframe thead th {\n",
       "        text-align: right;\n",
       "    }\n",
       "</style>\n",
       "<table border=\"1\" class=\"dataframe\">\n",
       "  <thead>\n",
       "    <tr style=\"text-align: right;\">\n",
       "      <th></th>\n",
       "      <th>fname</th>\n",
       "      <th>barename</th>\n",
       "      <th>ext</th>\n",
       "    </tr>\n",
       "  </thead>\n",
       "  <tbody>\n",
       "    <tr>\n",
       "      <th>0</th>\n",
       "      <td>file1.fb</td>\n",
       "      <td>file1</td>\n",
       "      <td>.fb</td>\n",
       "    </tr>\n",
       "    <tr>\n",
       "      <th>1</th>\n",
       "      <td>file3.fb</td>\n",
       "      <td>file3</td>\n",
       "      <td>.fb</td>\n",
       "    </tr>\n",
       "    <tr>\n",
       "      <th>2</th>\n",
       "      <td>file4.fb</td>\n",
       "      <td>file4</td>\n",
       "      <td>.fb</td>\n",
       "    </tr>\n",
       "  </tbody>\n",
       "</table>\n",
       "</div>"
      ],
      "text/plain": [
       "      fname barename  ext\n",
       "0  file1.fb    file1  .fb\n",
       "1  file3.fb    file3  .fb\n",
       "2  file4.fb    file4  .fb"
      ]
     },
     "execution_count": 19,
     "metadata": {},
     "output_type": "execute_result"
    }
   ],
   "source": [
    "rdf = pd.DataFrame.from_records([\n",
    "    ('file1.fb', 'file1', '.fb'),\n",
    "    ('file3.fb', 'file3', '.fb'),\n",
    "    ('file4.fb', 'file4', '.fb')\n",
    "], columns=['fname', 'barename', 'ext'])\n",
    "rdf"
   ]
  },
  {
   "cell_type": "markdown",
   "metadata": {},
   "source": [
    "Our goal is to find each '.wav' file in `ldf` that does not have a corresponding '.fb' file in the second Dataframe `rdf`.\n",
    "\n",
    "Performing a left merge on `ldf` preserves all of its key values, in this case 'barename'. This means that each barename value in `ldf` is represented by at least one row in the output. When there is no matching key from the right DataFrame, then the columns contributed from the right are filled with NaN. Notice that the 'file4' barename from the right DataFrame is not in the merge result. A left merge does not preserve all key values from the right DataFrame."
   ]
  },
  {
   "cell_type": "code",
   "execution_count": 20,
   "metadata": {},
   "outputs": [
    {
     "data": {
      "text/html": [
       "<div>\n",
       "<style scoped>\n",
       "    .dataframe tbody tr th:only-of-type {\n",
       "        vertical-align: middle;\n",
       "    }\n",
       "\n",
       "    .dataframe tbody tr th {\n",
       "        vertical-align: top;\n",
       "    }\n",
       "\n",
       "    .dataframe thead th {\n",
       "        text-align: right;\n",
       "    }\n",
       "</style>\n",
       "<table border=\"1\" class=\"dataframe\">\n",
       "  <thead>\n",
       "    <tr style=\"text-align: right;\">\n",
       "      <th></th>\n",
       "      <th>fname_lt</th>\n",
       "      <th>barename</th>\n",
       "      <th>ext_lt</th>\n",
       "      <th>fname_rt</th>\n",
       "      <th>ext_rt</th>\n",
       "    </tr>\n",
       "  </thead>\n",
       "  <tbody>\n",
       "    <tr>\n",
       "      <th>0</th>\n",
       "      <td>file1.wav</td>\n",
       "      <td>file1</td>\n",
       "      <td>.wav</td>\n",
       "      <td>file1.fb</td>\n",
       "      <td>.fb</td>\n",
       "    </tr>\n",
       "    <tr>\n",
       "      <th>1</th>\n",
       "      <td>file2.wav</td>\n",
       "      <td>file2</td>\n",
       "      <td>.wav</td>\n",
       "      <td>NaN</td>\n",
       "      <td>NaN</td>\n",
       "    </tr>\n",
       "    <tr>\n",
       "      <th>2</th>\n",
       "      <td>file3.wav</td>\n",
       "      <td>file3</td>\n",
       "      <td>.wav</td>\n",
       "      <td>file3.fb</td>\n",
       "      <td>.fb</td>\n",
       "    </tr>\n",
       "  </tbody>\n",
       "</table>\n",
       "</div>"
      ],
      "text/plain": [
       "    fname_lt barename ext_lt  fname_rt ext_rt\n",
       "0  file1.wav    file1   .wav  file1.fb    .fb\n",
       "1  file2.wav    file2   .wav       NaN    NaN\n",
       "2  file3.wav    file3   .wav  file3.fb    .fb"
      ]
     },
     "execution_count": 20,
     "metadata": {},
     "output_type": "execute_result"
    }
   ],
   "source": [
    "mdf = ldf.merge(rdf, on='barename', how='left', suffixes=['_lt', '_rt'])\n",
    "mdf"
   ]
  },
  {
   "cell_type": "markdown",
   "metadata": {},
   "source": [
    "To find all of the '.wav' files that do not have a corresponding '.fb' file, select the rows from the merged DataFrame where the 'ext_rt' column has a value of NaN."
   ]
  },
  {
   "cell_type": "code",
   "execution_count": 21,
   "metadata": {},
   "outputs": [
    {
     "data": {
      "text/html": [
       "<div>\n",
       "<style scoped>\n",
       "    .dataframe tbody tr th:only-of-type {\n",
       "        vertical-align: middle;\n",
       "    }\n",
       "\n",
       "    .dataframe tbody tr th {\n",
       "        vertical-align: top;\n",
       "    }\n",
       "\n",
       "    .dataframe thead th {\n",
       "        text-align: right;\n",
       "    }\n",
       "</style>\n",
       "<table border=\"1\" class=\"dataframe\">\n",
       "  <thead>\n",
       "    <tr style=\"text-align: right;\">\n",
       "      <th></th>\n",
       "      <th>fname_lt</th>\n",
       "      <th>barename</th>\n",
       "      <th>ext_lt</th>\n",
       "      <th>fname_rt</th>\n",
       "      <th>ext_rt</th>\n",
       "    </tr>\n",
       "  </thead>\n",
       "  <tbody>\n",
       "    <tr>\n",
       "      <th>1</th>\n",
       "      <td>file2.wav</td>\n",
       "      <td>file2</td>\n",
       "      <td>.wav</td>\n",
       "      <td>NaN</td>\n",
       "      <td>NaN</td>\n",
       "    </tr>\n",
       "  </tbody>\n",
       "</table>\n",
       "</div>"
      ],
      "text/plain": [
       "    fname_lt barename ext_lt fname_rt ext_rt\n",
       "1  file2.wav    file2   .wav      NaN    NaN"
      ]
     },
     "execution_count": 21,
     "metadata": {},
     "output_type": "execute_result"
    }
   ],
   "source": [
    "mdf[mdf.ext_rt.isna()]"
   ]
  },
  {
   "cell_type": "markdown",
   "metadata": {},
   "source": [
    "***Important*** Be careful! If your right DataFrame contains files you don't expect, you could be in trouble. In `rdf2` there are two '.txt' files in addition to the '.fb' files."
   ]
  },
  {
   "cell_type": "code",
   "execution_count": 22,
   "metadata": {},
   "outputs": [
    {
     "data": {
      "text/html": [
       "<div>\n",
       "<style scoped>\n",
       "    .dataframe tbody tr th:only-of-type {\n",
       "        vertical-align: middle;\n",
       "    }\n",
       "\n",
       "    .dataframe tbody tr th {\n",
       "        vertical-align: top;\n",
       "    }\n",
       "\n",
       "    .dataframe thead th {\n",
       "        text-align: right;\n",
       "    }\n",
       "</style>\n",
       "<table border=\"1\" class=\"dataframe\">\n",
       "  <thead>\n",
       "    <tr style=\"text-align: right;\">\n",
       "      <th></th>\n",
       "      <th>fname</th>\n",
       "      <th>barename</th>\n",
       "      <th>ext</th>\n",
       "    </tr>\n",
       "  </thead>\n",
       "  <tbody>\n",
       "    <tr>\n",
       "      <th>0</th>\n",
       "      <td>file1.fb</td>\n",
       "      <td>file1</td>\n",
       "      <td>.fb</td>\n",
       "    </tr>\n",
       "    <tr>\n",
       "      <th>1</th>\n",
       "      <td>file2.txt</td>\n",
       "      <td>file2</td>\n",
       "      <td>.txt</td>\n",
       "    </tr>\n",
       "    <tr>\n",
       "      <th>2</th>\n",
       "      <td>file3.wav</td>\n",
       "      <td>file3</td>\n",
       "      <td>.fb</td>\n",
       "    </tr>\n",
       "    <tr>\n",
       "      <th>3</th>\n",
       "      <td>file3.txt</td>\n",
       "      <td>file3</td>\n",
       "      <td>.txt</td>\n",
       "    </tr>\n",
       "  </tbody>\n",
       "</table>\n",
       "</div>"
      ],
      "text/plain": [
       "       fname barename   ext\n",
       "0   file1.fb    file1   .fb\n",
       "1  file2.txt    file2  .txt\n",
       "2  file3.wav    file3   .fb\n",
       "3  file3.txt    file3  .txt"
      ]
     },
     "execution_count": 22,
     "metadata": {},
     "output_type": "execute_result"
    }
   ],
   "source": [
    "rdf2 = pd.DataFrame.from_records([\n",
    "    ('file1.fb', 'file1', '.fb'),\n",
    "    ('file2.txt', 'file2', '.txt'),\n",
    "    ('file3.wav', 'file3', '.fb'),\n",
    "    ('file3.txt', 'file3', '.txt')\n",
    "], columns=['fname', 'barename', 'ext'])\n",
    "rdf2"
   ]
  },
  {
   "cell_type": "markdown",
   "metadata": {},
   "source": [
    "Merging `rdf2` with `ldf` does not produce the result we want! Since we only match on barename values, the existence of 'file2.txt' masks the fact that 'file2.fb' is missing, and there are no NaN values in the merge result.\n",
    "\n",
    "(Secondarily, the barename 'file3' matches twice, once each for the '.fb' and '.txt' file.)"
   ]
  },
  {
   "cell_type": "code",
   "execution_count": 23,
   "metadata": {},
   "outputs": [
    {
     "data": {
      "text/html": [
       "<div>\n",
       "<style scoped>\n",
       "    .dataframe tbody tr th:only-of-type {\n",
       "        vertical-align: middle;\n",
       "    }\n",
       "\n",
       "    .dataframe tbody tr th {\n",
       "        vertical-align: top;\n",
       "    }\n",
       "\n",
       "    .dataframe thead th {\n",
       "        text-align: right;\n",
       "    }\n",
       "</style>\n",
       "<table border=\"1\" class=\"dataframe\">\n",
       "  <thead>\n",
       "    <tr style=\"text-align: right;\">\n",
       "      <th></th>\n",
       "      <th>fname_lt</th>\n",
       "      <th>barename</th>\n",
       "      <th>ext_lt</th>\n",
       "      <th>fname_rt</th>\n",
       "      <th>ext_rt</th>\n",
       "    </tr>\n",
       "  </thead>\n",
       "  <tbody>\n",
       "    <tr>\n",
       "      <th>0</th>\n",
       "      <td>file1.wav</td>\n",
       "      <td>file1</td>\n",
       "      <td>.wav</td>\n",
       "      <td>file1.fb</td>\n",
       "      <td>.fb</td>\n",
       "    </tr>\n",
       "    <tr>\n",
       "      <th>1</th>\n",
       "      <td>file2.wav</td>\n",
       "      <td>file2</td>\n",
       "      <td>.wav</td>\n",
       "      <td>file2.txt</td>\n",
       "      <td>.txt</td>\n",
       "    </tr>\n",
       "    <tr>\n",
       "      <th>2</th>\n",
       "      <td>file3.wav</td>\n",
       "      <td>file3</td>\n",
       "      <td>.wav</td>\n",
       "      <td>file3.wav</td>\n",
       "      <td>.fb</td>\n",
       "    </tr>\n",
       "    <tr>\n",
       "      <th>3</th>\n",
       "      <td>file3.wav</td>\n",
       "      <td>file3</td>\n",
       "      <td>.wav</td>\n",
       "      <td>file3.txt</td>\n",
       "      <td>.txt</td>\n",
       "    </tr>\n",
       "  </tbody>\n",
       "</table>\n",
       "</div>"
      ],
      "text/plain": [
       "    fname_lt barename ext_lt   fname_rt ext_rt\n",
       "0  file1.wav    file1   .wav   file1.fb    .fb\n",
       "1  file2.wav    file2   .wav  file2.txt   .txt\n",
       "2  file3.wav    file3   .wav  file3.wav    .fb\n",
       "3  file3.wav    file3   .wav  file3.txt   .txt"
      ]
     },
     "execution_count": 23,
     "metadata": {},
     "output_type": "execute_result"
    }
   ],
   "source": [
    "mdf2 = ldf.merge(rdf2, on='barename', how='left', suffixes=['_lt', '_rt'])\n",
    "mdf2"
   ]
  },
  {
   "cell_type": "markdown",
   "metadata": {},
   "source": [
    "To fix this problem, ensure that the right DataFrame does not contain any files that are not relevant to the task. In our case, we want to find '.wav' files that do not have a matching '.fb' file, so we take a subset of `rdf2` that contains only '.fb' files.\n",
    "\n",
    "The subset looks like this:"
   ]
  },
  {
   "cell_type": "code",
   "execution_count": 24,
   "metadata": {},
   "outputs": [
    {
     "data": {
      "text/html": [
       "<div>\n",
       "<style scoped>\n",
       "    .dataframe tbody tr th:only-of-type {\n",
       "        vertical-align: middle;\n",
       "    }\n",
       "\n",
       "    .dataframe tbody tr th {\n",
       "        vertical-align: top;\n",
       "    }\n",
       "\n",
       "    .dataframe thead th {\n",
       "        text-align: right;\n",
       "    }\n",
       "</style>\n",
       "<table border=\"1\" class=\"dataframe\">\n",
       "  <thead>\n",
       "    <tr style=\"text-align: right;\">\n",
       "      <th></th>\n",
       "      <th>fname</th>\n",
       "      <th>barename</th>\n",
       "      <th>ext</th>\n",
       "    </tr>\n",
       "  </thead>\n",
       "  <tbody>\n",
       "    <tr>\n",
       "      <th>0</th>\n",
       "      <td>file1.fb</td>\n",
       "      <td>file1</td>\n",
       "      <td>.fb</td>\n",
       "    </tr>\n",
       "    <tr>\n",
       "      <th>2</th>\n",
       "      <td>file3.wav</td>\n",
       "      <td>file3</td>\n",
       "      <td>.fb</td>\n",
       "    </tr>\n",
       "  </tbody>\n",
       "</table>\n",
       "</div>"
      ],
      "text/plain": [
       "       fname barename  ext\n",
       "0   file1.fb    file1  .fb\n",
       "2  file3.wav    file3  .fb"
      ]
     },
     "execution_count": 24,
     "metadata": {},
     "output_type": "execute_result"
    }
   ],
   "source": [
    "rdf2[rdf2.ext == '.fb']"
   ]
  },
  {
   "cell_type": "markdown",
   "metadata": {},
   "source": [
    "Using this subset in the merge produces the intended result, where 'file2' has a NaN value in the 'ext_rt' column."
   ]
  },
  {
   "cell_type": "code",
   "execution_count": 25,
   "metadata": {},
   "outputs": [
    {
     "data": {
      "text/html": [
       "<div>\n",
       "<style scoped>\n",
       "    .dataframe tbody tr th:only-of-type {\n",
       "        vertical-align: middle;\n",
       "    }\n",
       "\n",
       "    .dataframe tbody tr th {\n",
       "        vertical-align: top;\n",
       "    }\n",
       "\n",
       "    .dataframe thead th {\n",
       "        text-align: right;\n",
       "    }\n",
       "</style>\n",
       "<table border=\"1\" class=\"dataframe\">\n",
       "  <thead>\n",
       "    <tr style=\"text-align: right;\">\n",
       "      <th></th>\n",
       "      <th>fname_lt</th>\n",
       "      <th>barename</th>\n",
       "      <th>ext_lt</th>\n",
       "      <th>fname_rt</th>\n",
       "      <th>ext_rt</th>\n",
       "    </tr>\n",
       "  </thead>\n",
       "  <tbody>\n",
       "    <tr>\n",
       "      <th>0</th>\n",
       "      <td>file1.wav</td>\n",
       "      <td>file1</td>\n",
       "      <td>.wav</td>\n",
       "      <td>file1.fb</td>\n",
       "      <td>.fb</td>\n",
       "    </tr>\n",
       "    <tr>\n",
       "      <th>1</th>\n",
       "      <td>file2.wav</td>\n",
       "      <td>file2</td>\n",
       "      <td>.wav</td>\n",
       "      <td>NaN</td>\n",
       "      <td>NaN</td>\n",
       "    </tr>\n",
       "    <tr>\n",
       "      <th>2</th>\n",
       "      <td>file3.wav</td>\n",
       "      <td>file3</td>\n",
       "      <td>.wav</td>\n",
       "      <td>file3.wav</td>\n",
       "      <td>.fb</td>\n",
       "    </tr>\n",
       "  </tbody>\n",
       "</table>\n",
       "</div>"
      ],
      "text/plain": [
       "    fname_lt barename ext_lt   fname_rt ext_rt\n",
       "0  file1.wav    file1   .wav   file1.fb    .fb\n",
       "1  file2.wav    file2   .wav        NaN    NaN\n",
       "2  file3.wav    file3   .wav  file3.wav    .fb"
      ]
     },
     "execution_count": 25,
     "metadata": {},
     "output_type": "execute_result"
    }
   ],
   "source": [
    "mdf2 = ldf.merge(\n",
    "    rdf2[rdf2.ext == '.fb'],   # Subset of '.fb' files\n",
    "    on='barename',\n",
    "    how='left',\n",
    "    suffixes=['_lt', '_rt']\n",
    ")\n",
    "mdf2"
   ]
  }
 ],
 "metadata": {
  "kernelspec": {
   "display_name": "Python 3",
   "language": "python",
   "name": "python3"
  },
  "language_info": {
   "codemirror_mode": {
    "name": "ipython",
    "version": 3
   },
   "file_extension": ".py",
   "mimetype": "text/x-python",
   "name": "python",
   "nbconvert_exporter": "python",
   "pygments_lexer": "ipython3",
   "version": "3.6.3"
  }
 },
 "nbformat": 4,
 "nbformat_minor": 2
}
