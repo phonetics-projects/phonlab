{
 "cells": [
  {
   "cell_type": "code",
   "execution_count": 1,
   "metadata": {},
   "outputs": [],
   "source": [
    "import pandas as pd"
   ]
  },
  {
   "cell_type": "markdown",
   "metadata": {},
   "source": [
    "## <a name=\"find_non_matched_rows\"></a>Find rows in a source DataFrame that do not have a match in a second DataFrame\n",
    "\n",
    "If you have a source DataFrame and want to check whether a second DataFrame has a corresponding row, you can use a left merge with the source on the lefthand side. A left merge returns all of the merge keys from the lefthand DataFrame regardless of whether a matching key is found on the right. When there is no match, the columns from the right DataFrame are filled with NaN.\n",
    "\n",
    "A common use case for this merge is for finding files that require post-processing. If you have a set of source filenames (e.g. '.wav' files) in one DataFrame and a set of existing post-processed filenames (e.g. '.fb' files from the `formant` command) in another, you can use the merge described in this section to find the source filenames that don't have a matching post-processed file. These are the ones that require post-processing.\n",
    "\n",
    "For this example the source DataFrame will be the left DataFrame `ldf`. It contains a list of '.wav' filenames, parsed into a barename and extension."
   ]
  },
  {
   "cell_type": "code",
   "execution_count": 48,
   "metadata": {},
   "outputs": [
    {
     "data": {
      "text/html": [
       "<div>\n",
       "<style scoped>\n",
       "    .dataframe tbody tr th:only-of-type {\n",
       "        vertical-align: middle;\n",
       "    }\n",
       "\n",
       "    .dataframe tbody tr th {\n",
       "        vertical-align: top;\n",
       "    }\n",
       "\n",
       "    .dataframe thead th {\n",
       "        text-align: right;\n",
       "    }\n",
       "</style>\n",
       "<table border=\"1\" class=\"dataframe\">\n",
       "  <thead>\n",
       "    <tr style=\"text-align: right;\">\n",
       "      <th></th>\n",
       "      <th>fname</th>\n",
       "      <th>barename</th>\n",
       "      <th>ext</th>\n",
       "    </tr>\n",
       "  </thead>\n",
       "  <tbody>\n",
       "    <tr>\n",
       "      <th>0</th>\n",
       "      <td>file1.wav</td>\n",
       "      <td>file1</td>\n",
       "      <td>.wav</td>\n",
       "    </tr>\n",
       "    <tr>\n",
       "      <th>1</th>\n",
       "      <td>file2.wav</td>\n",
       "      <td>file2</td>\n",
       "      <td>.wav</td>\n",
       "    </tr>\n",
       "    <tr>\n",
       "      <th>2</th>\n",
       "      <td>file3.wav</td>\n",
       "      <td>file3</td>\n",
       "      <td>.wav</td>\n",
       "    </tr>\n",
       "  </tbody>\n",
       "</table>\n",
       "</div>"
      ],
      "text/plain": [
       "       fname barename   ext\n",
       "0  file1.wav    file1  .wav\n",
       "1  file2.wav    file2  .wav\n",
       "2  file3.wav    file3  .wav"
      ]
     },
     "execution_count": 48,
     "metadata": {},
     "output_type": "execute_result"
    }
   ],
   "source": [
    "ldf = pd.DataFrame.from_records([\n",
    "    ('file1.wav', 'file1', '.wav'),\n",
    "    ('file2.wav', 'file2', '.wav'),\n",
    "    ('file3.wav', 'file3', '.wav')\n",
    "], columns=['fname', 'barename', 'ext'])\n",
    "ldf"
   ]
  },
  {
   "cell_type": "markdown",
   "metadata": {},
   "source": [
    "The `rdf` DataFrame has a corresponding set of filenames that have the same barenames as `ldf` with different extensions. Notice that it does not contain a filename that corresponds to the 'file2' barename in `ldf`. It does contain a barename not found in `ldf` ('file4')."
   ]
  },
  {
   "cell_type": "code",
   "execution_count": 49,
   "metadata": {},
   "outputs": [
    {
     "data": {
      "text/html": [
       "<div>\n",
       "<style scoped>\n",
       "    .dataframe tbody tr th:only-of-type {\n",
       "        vertical-align: middle;\n",
       "    }\n",
       "\n",
       "    .dataframe tbody tr th {\n",
       "        vertical-align: top;\n",
       "    }\n",
       "\n",
       "    .dataframe thead th {\n",
       "        text-align: right;\n",
       "    }\n",
       "</style>\n",
       "<table border=\"1\" class=\"dataframe\">\n",
       "  <thead>\n",
       "    <tr style=\"text-align: right;\">\n",
       "      <th></th>\n",
       "      <th>fname</th>\n",
       "      <th>barename</th>\n",
       "      <th>ext</th>\n",
       "    </tr>\n",
       "  </thead>\n",
       "  <tbody>\n",
       "    <tr>\n",
       "      <th>0</th>\n",
       "      <td>file1.fb</td>\n",
       "      <td>file1</td>\n",
       "      <td>.fb</td>\n",
       "    </tr>\n",
       "    <tr>\n",
       "      <th>1</th>\n",
       "      <td>file3.fb</td>\n",
       "      <td>file3</td>\n",
       "      <td>.fb</td>\n",
       "    </tr>\n",
       "    <tr>\n",
       "      <th>2</th>\n",
       "      <td>file4.fb</td>\n",
       "      <td>file4</td>\n",
       "      <td>.fb</td>\n",
       "    </tr>\n",
       "  </tbody>\n",
       "</table>\n",
       "</div>"
      ],
      "text/plain": [
       "      fname barename  ext\n",
       "0  file1.fb    file1  .fb\n",
       "1  file3.fb    file3  .fb\n",
       "2  file4.fb    file4  .fb"
      ]
     },
     "execution_count": 49,
     "metadata": {},
     "output_type": "execute_result"
    }
   ],
   "source": [
    "rdf = pd.DataFrame.from_records([\n",
    "    ('file1.fb', 'file1', '.fb'),\n",
    "    ('file3.fb', 'file3', '.fb'),\n",
    "    ('file4.fb', 'file4', '.fb')\n",
    "], columns=['fname', 'barename', 'ext'])\n",
    "rdf"
   ]
  },
  {
   "cell_type": "markdown",
   "metadata": {},
   "source": [
    "Our goal is to find each '.wav' file in `ldf` that does not have a corresponding '.fb' file in the second Dataframe `rdf`.\n",
    "\n",
    "Performing a left merge on `ldf` preserves all of its key values, in this case 'barename'. This means that each barename value in `ldf` is represented by at least one row in the output. When there is no matching key from the right DataFrame, then the columns contributed from the right are filled with NaN. Notice that the 'file4' barename from the right DataFrame is not in the merge result. A left merge does not preserve all key values from the right DataFrame."
   ]
  },
  {
   "cell_type": "code",
   "execution_count": 31,
   "metadata": {},
   "outputs": [
    {
     "data": {
      "text/html": [
       "<div>\n",
       "<style scoped>\n",
       "    .dataframe tbody tr th:only-of-type {\n",
       "        vertical-align: middle;\n",
       "    }\n",
       "\n",
       "    .dataframe tbody tr th {\n",
       "        vertical-align: top;\n",
       "    }\n",
       "\n",
       "    .dataframe thead th {\n",
       "        text-align: right;\n",
       "    }\n",
       "</style>\n",
       "<table border=\"1\" class=\"dataframe\">\n",
       "  <thead>\n",
       "    <tr style=\"text-align: right;\">\n",
       "      <th></th>\n",
       "      <th>fname_lt</th>\n",
       "      <th>barename</th>\n",
       "      <th>ext_lt</th>\n",
       "      <th>fname_rt</th>\n",
       "      <th>ext_rt</th>\n",
       "    </tr>\n",
       "  </thead>\n",
       "  <tbody>\n",
       "    <tr>\n",
       "      <th>0</th>\n",
       "      <td>file1.wav</td>\n",
       "      <td>file1</td>\n",
       "      <td>.wav</td>\n",
       "      <td>file1.fb</td>\n",
       "      <td>.fb</td>\n",
       "    </tr>\n",
       "    <tr>\n",
       "      <th>1</th>\n",
       "      <td>file2.wav</td>\n",
       "      <td>file2</td>\n",
       "      <td>.wav</td>\n",
       "      <td>NaN</td>\n",
       "      <td>NaN</td>\n",
       "    </tr>\n",
       "    <tr>\n",
       "      <th>2</th>\n",
       "      <td>file3.wav</td>\n",
       "      <td>file3</td>\n",
       "      <td>.wav</td>\n",
       "      <td>file3.fb</td>\n",
       "      <td>.fb</td>\n",
       "    </tr>\n",
       "  </tbody>\n",
       "</table>\n",
       "</div>"
      ],
      "text/plain": [
       "    fname_lt barename ext_lt  fname_rt ext_rt\n",
       "0  file1.wav    file1   .wav  file1.fb    .fb\n",
       "1  file2.wav    file2   .wav       NaN    NaN\n",
       "2  file3.wav    file3   .wav  file3.fb    .fb"
      ]
     },
     "execution_count": 31,
     "metadata": {},
     "output_type": "execute_result"
    }
   ],
   "source": [
    "mdf = ldf.merge(rdf, on='barename', how='left', suffixes=['_lt', '_rt'])\n",
    "mdf"
   ]
  },
  {
   "cell_type": "markdown",
   "metadata": {},
   "source": [
    "To find all of the '.wav' files that do not have a corresponding '.fb' file, select the rows from the merged DataFrame where the 'ext_rt' column has a value of NaN."
   ]
  },
  {
   "cell_type": "code",
   "execution_count": 32,
   "metadata": {},
   "outputs": [
    {
     "data": {
      "text/html": [
       "<div>\n",
       "<style scoped>\n",
       "    .dataframe tbody tr th:only-of-type {\n",
       "        vertical-align: middle;\n",
       "    }\n",
       "\n",
       "    .dataframe tbody tr th {\n",
       "        vertical-align: top;\n",
       "    }\n",
       "\n",
       "    .dataframe thead th {\n",
       "        text-align: right;\n",
       "    }\n",
       "</style>\n",
       "<table border=\"1\" class=\"dataframe\">\n",
       "  <thead>\n",
       "    <tr style=\"text-align: right;\">\n",
       "      <th></th>\n",
       "      <th>fname_lt</th>\n",
       "      <th>barename</th>\n",
       "      <th>ext_lt</th>\n",
       "      <th>fname_rt</th>\n",
       "      <th>ext_rt</th>\n",
       "    </tr>\n",
       "  </thead>\n",
       "  <tbody>\n",
       "    <tr>\n",
       "      <th>1</th>\n",
       "      <td>file2.wav</td>\n",
       "      <td>file2</td>\n",
       "      <td>.wav</td>\n",
       "      <td>NaN</td>\n",
       "      <td>NaN</td>\n",
       "    </tr>\n",
       "  </tbody>\n",
       "</table>\n",
       "</div>"
      ],
      "text/plain": [
       "    fname_lt barename ext_lt fname_rt ext_rt\n",
       "1  file2.wav    file2   .wav      NaN    NaN"
      ]
     },
     "execution_count": 32,
     "metadata": {},
     "output_type": "execute_result"
    }
   ],
   "source": [
    "mdf[mdf.ext_rt.isna()]"
   ]
  },
  {
   "cell_type": "markdown",
   "metadata": {},
   "source": [
    "***Important*** Be careful! If your right DataFrame contains files you don't expect, you could be in trouble. In `rdf2` there are two '.txt' files in addition to the '.fb' files."
   ]
  },
  {
   "cell_type": "code",
   "execution_count": 36,
   "metadata": {},
   "outputs": [
    {
     "data": {
      "text/html": [
       "<div>\n",
       "<style scoped>\n",
       "    .dataframe tbody tr th:only-of-type {\n",
       "        vertical-align: middle;\n",
       "    }\n",
       "\n",
       "    .dataframe tbody tr th {\n",
       "        vertical-align: top;\n",
       "    }\n",
       "\n",
       "    .dataframe thead th {\n",
       "        text-align: right;\n",
       "    }\n",
       "</style>\n",
       "<table border=\"1\" class=\"dataframe\">\n",
       "  <thead>\n",
       "    <tr style=\"text-align: right;\">\n",
       "      <th></th>\n",
       "      <th>fname</th>\n",
       "      <th>barename</th>\n",
       "      <th>ext</th>\n",
       "    </tr>\n",
       "  </thead>\n",
       "  <tbody>\n",
       "    <tr>\n",
       "      <th>0</th>\n",
       "      <td>file1.fb</td>\n",
       "      <td>file1</td>\n",
       "      <td>.fb</td>\n",
       "    </tr>\n",
       "    <tr>\n",
       "      <th>1</th>\n",
       "      <td>file2.txt</td>\n",
       "      <td>file2</td>\n",
       "      <td>.txt</td>\n",
       "    </tr>\n",
       "    <tr>\n",
       "      <th>2</th>\n",
       "      <td>file3.wav</td>\n",
       "      <td>file3</td>\n",
       "      <td>.fb</td>\n",
       "    </tr>\n",
       "    <tr>\n",
       "      <th>3</th>\n",
       "      <td>file3.txt</td>\n",
       "      <td>file3</td>\n",
       "      <td>.txt</td>\n",
       "    </tr>\n",
       "  </tbody>\n",
       "</table>\n",
       "</div>"
      ],
      "text/plain": [
       "       fname barename   ext\n",
       "0   file1.fb    file1   .fb\n",
       "1  file2.txt    file2  .txt\n",
       "2  file3.wav    file3   .fb\n",
       "3  file3.txt    file3  .txt"
      ]
     },
     "execution_count": 36,
     "metadata": {},
     "output_type": "execute_result"
    }
   ],
   "source": [
    "rdf2 = pd.DataFrame.from_records([\n",
    "    ('file1.fb', 'file1', '.fb'),\n",
    "    ('file2.txt', 'file2', '.txt'),\n",
    "    ('file3.wav', 'file3', '.fb'),\n",
    "    ('file3.txt', 'file3', '.txt')\n",
    "], columns=['fname', 'barename', 'ext'])\n",
    "rdf2"
   ]
  },
  {
   "cell_type": "markdown",
   "metadata": {},
   "source": [
    "Merging `rdf2` with `ldf` does not produce the result we want! Since we only match on barename values, the existence of 'file2.txt' masks the fact that 'file2.fb' is missing, and there are no NaN values in the merge result.\n",
    "\n",
    "(Secondarily, the barename 'file3' matches twice, once each for the '.fb' and '.txt' file.)"
   ]
  },
  {
   "cell_type": "code",
   "execution_count": 38,
   "metadata": {},
   "outputs": [
    {
     "data": {
      "text/html": [
       "<div>\n",
       "<style scoped>\n",
       "    .dataframe tbody tr th:only-of-type {\n",
       "        vertical-align: middle;\n",
       "    }\n",
       "\n",
       "    .dataframe tbody tr th {\n",
       "        vertical-align: top;\n",
       "    }\n",
       "\n",
       "    .dataframe thead th {\n",
       "        text-align: right;\n",
       "    }\n",
       "</style>\n",
       "<table border=\"1\" class=\"dataframe\">\n",
       "  <thead>\n",
       "    <tr style=\"text-align: right;\">\n",
       "      <th></th>\n",
       "      <th>fname_lt</th>\n",
       "      <th>barename</th>\n",
       "      <th>ext_lt</th>\n",
       "      <th>fname_rt</th>\n",
       "      <th>ext_rt</th>\n",
       "    </tr>\n",
       "  </thead>\n",
       "  <tbody>\n",
       "    <tr>\n",
       "      <th>0</th>\n",
       "      <td>file1.wav</td>\n",
       "      <td>file1</td>\n",
       "      <td>.wav</td>\n",
       "      <td>file1.fb</td>\n",
       "      <td>.fb</td>\n",
       "    </tr>\n",
       "    <tr>\n",
       "      <th>1</th>\n",
       "      <td>file2.wav</td>\n",
       "      <td>file2</td>\n",
       "      <td>.wav</td>\n",
       "      <td>file2.txt</td>\n",
       "      <td>.txt</td>\n",
       "    </tr>\n",
       "    <tr>\n",
       "      <th>2</th>\n",
       "      <td>file3.wav</td>\n",
       "      <td>file3</td>\n",
       "      <td>.wav</td>\n",
       "      <td>file3.wav</td>\n",
       "      <td>.fb</td>\n",
       "    </tr>\n",
       "    <tr>\n",
       "      <th>3</th>\n",
       "      <td>file3.wav</td>\n",
       "      <td>file3</td>\n",
       "      <td>.wav</td>\n",
       "      <td>file3.txt</td>\n",
       "      <td>.txt</td>\n",
       "    </tr>\n",
       "  </tbody>\n",
       "</table>\n",
       "</div>"
      ],
      "text/plain": [
       "    fname_lt barename ext_lt   fname_rt ext_rt\n",
       "0  file1.wav    file1   .wav   file1.fb    .fb\n",
       "1  file2.wav    file2   .wav  file2.txt   .txt\n",
       "2  file3.wav    file3   .wav  file3.wav    .fb\n",
       "3  file3.wav    file3   .wav  file3.txt   .txt"
      ]
     },
     "execution_count": 38,
     "metadata": {},
     "output_type": "execute_result"
    }
   ],
   "source": [
    "mdf2 = ldf.merge(rdf2, on='barename', how='left', suffixes=['_lt', '_rt'])\n",
    "mdf2"
   ]
  },
  {
   "cell_type": "markdown",
   "metadata": {},
   "source": [
    "To fix this problem, ensure that the right DataFrame does not contain any files that are not relevant to the task. In our case, we want to find '.wav' files that do not have a matching '.fb' file, so we take a subset of `rdf2` that contains only '.fb' files.\n",
    "\n",
    "The subset looks like this:"
   ]
  },
  {
   "cell_type": "code",
   "execution_count": 50,
   "metadata": {},
   "outputs": [
    {
     "data": {
      "text/html": [
       "<div>\n",
       "<style scoped>\n",
       "    .dataframe tbody tr th:only-of-type {\n",
       "        vertical-align: middle;\n",
       "    }\n",
       "\n",
       "    .dataframe tbody tr th {\n",
       "        vertical-align: top;\n",
       "    }\n",
       "\n",
       "    .dataframe thead th {\n",
       "        text-align: right;\n",
       "    }\n",
       "</style>\n",
       "<table border=\"1\" class=\"dataframe\">\n",
       "  <thead>\n",
       "    <tr style=\"text-align: right;\">\n",
       "      <th></th>\n",
       "      <th>fname</th>\n",
       "      <th>barename</th>\n",
       "      <th>ext</th>\n",
       "    </tr>\n",
       "  </thead>\n",
       "  <tbody>\n",
       "    <tr>\n",
       "      <th>0</th>\n",
       "      <td>file1.fb</td>\n",
       "      <td>file1</td>\n",
       "      <td>.fb</td>\n",
       "    </tr>\n",
       "    <tr>\n",
       "      <th>2</th>\n",
       "      <td>file3.wav</td>\n",
       "      <td>file3</td>\n",
       "      <td>.fb</td>\n",
       "    </tr>\n",
       "  </tbody>\n",
       "</table>\n",
       "</div>"
      ],
      "text/plain": [
       "       fname barename  ext\n",
       "0   file1.fb    file1  .fb\n",
       "2  file3.wav    file3  .fb"
      ]
     },
     "execution_count": 50,
     "metadata": {},
     "output_type": "execute_result"
    }
   ],
   "source": [
    "rdf2[rdf2.ext == '.fb']"
   ]
  },
  {
   "cell_type": "markdown",
   "metadata": {},
   "source": [
    "Using this subset in the merge produces the intended result, where 'file2' has a NaN value in the 'ext_rt' column."
   ]
  },
  {
   "cell_type": "code",
   "execution_count": 41,
   "metadata": {},
   "outputs": [
    {
     "data": {
      "text/html": [
       "<div>\n",
       "<style scoped>\n",
       "    .dataframe tbody tr th:only-of-type {\n",
       "        vertical-align: middle;\n",
       "    }\n",
       "\n",
       "    .dataframe tbody tr th {\n",
       "        vertical-align: top;\n",
       "    }\n",
       "\n",
       "    .dataframe thead th {\n",
       "        text-align: right;\n",
       "    }\n",
       "</style>\n",
       "<table border=\"1\" class=\"dataframe\">\n",
       "  <thead>\n",
       "    <tr style=\"text-align: right;\">\n",
       "      <th></th>\n",
       "      <th>fname_lt</th>\n",
       "      <th>barename</th>\n",
       "      <th>ext_lt</th>\n",
       "      <th>fname_rt</th>\n",
       "      <th>ext_rt</th>\n",
       "    </tr>\n",
       "  </thead>\n",
       "  <tbody>\n",
       "    <tr>\n",
       "      <th>0</th>\n",
       "      <td>file1.wav</td>\n",
       "      <td>file1</td>\n",
       "      <td>.wav</td>\n",
       "      <td>file1.fb</td>\n",
       "      <td>.fb</td>\n",
       "    </tr>\n",
       "    <tr>\n",
       "      <th>1</th>\n",
       "      <td>file2.wav</td>\n",
       "      <td>file2</td>\n",
       "      <td>.wav</td>\n",
       "      <td>NaN</td>\n",
       "      <td>NaN</td>\n",
       "    </tr>\n",
       "    <tr>\n",
       "      <th>2</th>\n",
       "      <td>file3.wav</td>\n",
       "      <td>file3</td>\n",
       "      <td>.wav</td>\n",
       "      <td>file3.wav</td>\n",
       "      <td>.fb</td>\n",
       "    </tr>\n",
       "  </tbody>\n",
       "</table>\n",
       "</div>"
      ],
      "text/plain": [
       "    fname_lt barename ext_lt   fname_rt ext_rt\n",
       "0  file1.wav    file1   .wav   file1.fb    .fb\n",
       "1  file2.wav    file2   .wav        NaN    NaN\n",
       "2  file3.wav    file3   .wav  file3.wav    .fb"
      ]
     },
     "execution_count": 41,
     "metadata": {},
     "output_type": "execute_result"
    }
   ],
   "source": [
    "mdf2 = ldf.merge(\n",
    "    rdf2[rdf2.ext == '.fb'],   # Subset of '.fb' files\n",
    "    on='barename',\n",
    "    how='left',\n",
    "    suffixes=['_lt', '_rt']\n",
    ")\n",
    "mdf2"
   ]
  }
 ],
 "metadata": {
  "kernelspec": {
   "display_name": "Python 3",
   "language": "python",
   "name": "python3"
  },
  "language_info": {
   "codemirror_mode": {
    "name": "ipython",
    "version": 3
   },
   "file_extension": ".py",
   "mimetype": "text/x-python",
   "name": "python",
   "nbconvert_exporter": "python",
   "pygments_lexer": "ipython3",
   "version": "3.6.3"
  }
 },
 "nbformat": 4,
 "nbformat_minor": 2
}
