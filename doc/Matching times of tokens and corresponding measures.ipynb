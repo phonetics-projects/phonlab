{
 "cells": [
  {
   "cell_type": "markdown",
   "id": "d164e391",
   "metadata": {},
   "source": [
    "# Matching times of tokens and corresponding measures\n",
    "\n",
    "A common task is to extract acoustic and other measurements from a time series analysis that correspond to labelled tokens (e.g. phones, clusters, words, phrases, contexts) in an annotation file. This notebook illustrates how to perform this task."
   ]
  },
  {
   "cell_type": "code",
   "execution_count": 1,
   "id": "27f26717",
   "metadata": {},
   "outputs": [
    {
     "ename": "ModuleNotFoundError",
     "evalue": "No module named 'phonlab'",
     "output_type": "error",
     "traceback": [
      "\u001b[1;31m---------------------------------------------------------------------------\u001b[0m",
      "\u001b[1;31mModuleNotFoundError\u001b[0m                       Traceback (most recent call last)",
      "Cell \u001b[1;32mIn [1], line 7\u001b[0m\n\u001b[0;32m      5\u001b[0m \u001b[38;5;28;01mimport\u001b[39;00m \u001b[38;5;21;01mmatplotlib\u001b[39;00m\u001b[38;5;21;01m.\u001b[39;00m\u001b[38;5;21;01mpyplot\u001b[39;00m \u001b[38;5;28;01mas\u001b[39;00m \u001b[38;5;21;01mplt\u001b[39;00m\n\u001b[0;32m      6\u001b[0m \u001b[38;5;28;01mfrom\u001b[39;00m \u001b[38;5;21;01maudiolabel\u001b[39;00m \u001b[38;5;28;01mimport\u001b[39;00m read_label\n\u001b[1;32m----> 7\u001b[0m \u001b[38;5;28;01mfrom\u001b[39;00m \u001b[38;5;21;01mphonlab\u001b[39;00m\u001b[38;5;21;01m.\u001b[39;00m\u001b[38;5;21;01mutils\u001b[39;00m \u001b[38;5;28;01mimport\u001b[39;00m match_tokentimes\n",
      "\u001b[1;31mModuleNotFoundError\u001b[0m: No module named 'phonlab'"
     ]
    }
   ],
   "source": [
    "import sys\n",
    "import numpy as np\n",
    "import pandas as pd\n",
    "from pathlib import Path\n",
    "import matplotlib.pyplot as plt\n",
    "from audiolabel import read_label\n",
    "from phonlab.utils import match_tokentimes"
   ]
  },
  {
   "cell_type": "markdown",
   "id": "109a01ed",
   "metadata": {},
   "source": [
    "## Example data\n",
    "\n",
    "Let's start with a spectrogram, which consists of a series of spectral slices calculated a regular timesteps, with each slice consisting of a number of frequency bins. Each datapoint in the spectrogram is the magnitude of a frequency bin in its spectral slice.\n",
    "\n",
    "Spectral analysis typically results in a 2d array in which the times of the spectral slices (of which there are 200 here) are along the rows (axis 0), and the frequencies (of which there are 100 here) are along the columns (axis 1). For `imshow` we flip the axes with `.T` (an alias of `transpose()`) so that time is on the x-axis (columns) and frequencies are on the y-axis (rows).\n",
    "\n",
    "The axis labels show the integer index of the values in each dimension, which range from 0&ndash;199 for times and 0&ndash;99 for frequencies. **These indexes are not the times and frequencies themselves; they are simply the locations of the spectral slices/frequencies in the ordered axis.**"
   ]
  },
  {
   "cell_type": "code",
   "execution_count": null,
   "id": "1595e1c0",
   "metadata": {},
   "outputs": [],
   "source": [
    "d = np.load('../resource/spectrogram/spec.npz')\n",
    "spec = d['spec']\n",
    "print(f'Spectrogram shape: {spec.shape}')\n",
    "plt.imshow(spec.T, origin='lower', cmap='gray_r')"
   ]
  },
  {
   "cell_type": "markdown",
   "id": "5239485f",
   "metadata": {},
   "source": [
    "Individual spectral slices can be selected by indexing `spec` to return a specific row. The resulting plot shows the frequency bins on the x-axis and their magnitudes on the y-axis. The maximum value is marked with a red star."
   ]
  },
  {
   "cell_type": "code",
   "execution_count": null,
   "id": "b4c53aed",
   "metadata": {
    "scrolled": true
   },
   "outputs": [],
   "source": [
    "specidx = 26  # index of spectral slice to plot, any integer from 0 to 199\n",
    "specslice = spec[specidx,:]\n",
    "idxmax = np.argmax(specslice)\n",
    "print(f'Index of max freq in spectral slice {specidx}: {idxmax}')\n",
    "plt.plot(specslice.T)\n",
    "plt.axvline(x=idxmax, color='r')"
   ]
  },
  {
   "cell_type": "markdown",
   "id": "a2d53b7b",
   "metadata": {},
   "source": [
    "The spectral analysis will also include 1d arrays that list the times of the spectral slices and the frequency bins that are the same length as the corresponding axes of `spec`. `spectimes` has a time value (seconds) for every spectral slice of `spec`, and `freqs` has a frequency value (Hz) for every frequency bin of spec. These lengths of these arrays match the lengths of the axes of `spec`."
   ]
  },
  {
   "cell_type": "code",
   "execution_count": null,
   "id": "8af79b73",
   "metadata": {
    "scrolled": true
   },
   "outputs": [],
   "source": [
    "spectimes = d['spectimes']\n",
    "freqs = d['freqs']\n",
    "print(f'Shape of spec: {spec.shape}.\\nLength of spectimes: {len(spectimes)}.\\nLength of freqs: {len(freqs)}.')\n",
    "print(f'\\nspectimes values {spectimes}')\n",
    "print(f'\\nfreqs values {freqs}')"
   ]
  },
  {
   "cell_type": "markdown",
   "id": "8050f9ff",
   "metadata": {},
   "source": [
    "We can use `spectimes` and `freqs` to redefine the axes labels displayed by `imshow`."
   ]
  },
  {
   "cell_type": "code",
   "execution_count": null,
   "id": "85ecf865",
   "metadata": {},
   "outputs": [],
   "source": [
    "plt.imshow(\n",
    "    spec.T,\n",
    "    origin='lower',\n",
    "    cmap='gray_r',\n",
    "    extent=[spectimes[0], spectimes[-1], freqs[0], freqs[-1]],\n",
    "    aspect=0.0015\n",
    ")"
   ]
  },
  {
   "cell_type": "markdown",
   "id": "547c4559",
   "metadata": {},
   "source": [
    "## Token annotations\n",
    "\n",
    "Now consider a set of annotations of the audio file that was used to generate the spectrogram. You can load these into a dataframe and correlate them with spectral slices. The start and end times of each annotation are in the `t1` and `t2` columns, and the `label` column contains the content. In the second step the midpoint of each annotation is calculcated and added as the `midpt` column."
   ]
  },
  {
   "cell_type": "code",
   "execution_count": null,
   "id": "a5479156",
   "metadata": {},
   "outputs": [],
   "source": [
    "[tg] = read_label('../resource/spectrogram/spec.tg', ftype='praat')\n",
    "tg['midpt'] = (tg['t1'] + tg['t2']) / 2\n",
    "tg"
   ]
  },
  {
   "cell_type": "markdown",
   "id": "d0ff5b41",
   "metadata": {},
   "source": [
    "From these annotations you can select the rows that are the tokens you are interested in processing. Here are all the 'V' tokens."
   ]
  },
  {
   "cell_type": "code",
   "execution_count": null,
   "id": "c03a5d87",
   "metadata": {},
   "outputs": [],
   "source": [
    "tok = tg[tg['label'] == 'V']\n",
    "tok"
   ]
  },
  {
   "cell_type": "markdown",
   "id": "b675fcfb",
   "metadata": {},
   "source": [
    "## Matching times\n",
    "\n"
   ]
  },
  {
   "cell_type": "markdown",
   "id": "6f7a4f26",
   "metadata": {},
   "source": [
    "The next step is to select spectral slices from the spectrogram that correspond to the token times. One way to do this is to find the spectral slice closest to the midpoint of the token. The `match_tokentimes` functions compares two time arrays. For every value of the first array the index of the closest match in the second array is returned. In this example, the indexes of the spectral slices that most closely match the token midpoints are the result stored in `tidx`."
   ]
  },
  {
   "cell_type": "code",
   "execution_count": null,
   "id": "43648bc0",
   "metadata": {},
   "outputs": [],
   "source": [
    "tidx = match_tokentimes(tok['midpt'], spectimes)\n",
    "tidx"
   ]
  },
  {
   "cell_type": "markdown",
   "id": "9dda89ee",
   "metadata": {},
   "source": [
    "If you use `tidx` to select the times of the spectral slices from `spectimes`, you find values that are close to the midpoints found in the `midpt` column of `tok`."
   ]
  },
  {
   "cell_type": "code",
   "execution_count": null,
   "id": "74bbf37e",
   "metadata": {},
   "outputs": [],
   "source": [
    "spectimes[tidx]"
   ]
  },
  {
   "cell_type": "markdown",
   "id": "60e844e1",
   "metadata": {},
   "source": [
    "To select the spectral slices, use `tidx` on `spec`. The result is three token rows of 100 frequency bins."
   ]
  },
  {
   "cell_type": "code",
   "execution_count": null,
   "id": "36b8ad7e",
   "metadata": {},
   "outputs": [],
   "source": [
    "spec[tidx].shape"
   ]
  },
  {
   "cell_type": "markdown",
   "id": "5d4ed4d7",
   "metadata": {},
   "source": [
    "### Multiple measures per token\n",
    "\n",
    "In many cases you will want to find measures at multiple times per token, for example at the beginning of the token, 25% of the way through the token, 50%, 75%, and at the end. To do this, first use [`np.linspace`](https://numpy.org/doc/stable/reference/generated/numpy.linspace.html) to create five equally-spaced values from the start of each token to the end.\n",
    "The return value is a 2d array that has a row for each token, and the times are arranged in the columns. The `axis=1` parameter ensures that `linspace` returns the times in the correct shape."
   ]
  },
  {
   "cell_type": "code",
   "execution_count": null,
   "id": "f76254ac",
   "metadata": {},
   "outputs": [],
   "source": [
    "toktimes = np.linspace(tok['t1'], tok['t2'], num=5, axis=1)\n",
    "toktimes"
   ]
  },
  {
   "cell_type": "markdown",
   "id": "7269618a",
   "metadata": {},
   "source": [
    "The `match_tokentimes` function accepts a 2d first parameter, where the tokens are arranged along the first axis, as they are in `toktimes`."
   ]
  },
  {
   "cell_type": "code",
   "execution_count": null,
   "id": "52734869",
   "metadata": {},
   "outputs": [],
   "source": [
    "tidx = match_tokentimes(toktimes, spectimes)"
   ]
  },
  {
   "cell_type": "code",
   "execution_count": null,
   "id": "1e404463",
   "metadata": {},
   "outputs": [],
   "source": [
    "spec[tidx].reshape(len(toktimes), -1).shape"
   ]
  },
  {
   "cell_type": "code",
   "execution_count": null,
   "id": "6c0ea186",
   "metadata": {},
   "outputs": [],
   "source": [
    "mytoken = tidx[0]\n",
    "mytoken"
   ]
  },
  {
   "cell_type": "code",
   "execution_count": null,
   "id": "91979e77",
   "metadata": {},
   "outputs": [],
   "source": [
    "plt.imshow(\n",
    "    spec[mytoken].T,\n",
    "    origin='lower',\n",
    "    cmap='gray_r',\n",
    "    extent=[spectimes[mytoken][0], spectimes[mytoken][-1], freqs[0], freqs[-1]],\n",
    "    aspect=0.0015\n",
    ")"
   ]
  }
 ],
 "metadata": {
  "kernelspec": {
   "display_name": "Python 3 (ipykernel)",
   "language": "python",
   "name": "python3"
  },
  "language_info": {
   "codemirror_mode": {
    "name": "ipython",
    "version": 3
   },
   "file_extension": ".py",
   "mimetype": "text/x-python",
   "name": "python",
   "nbconvert_exporter": "python",
   "pygments_lexer": "ipython3",
   "version": "3.10.6"
  }
 },
 "nbformat": 4,
 "nbformat_minor": 5
}
