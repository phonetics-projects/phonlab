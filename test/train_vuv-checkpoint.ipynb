{
 "cells": [
  {
   "cell_type": "code",
   "execution_count": 1,
   "id": "c054fe46-fdba-4c63-967d-270bff3b66e9",
   "metadata": {},
   "outputs": [
    {
     "name": "stdout",
     "output_type": "stream",
     "text": [
      "phonlab 0.0.1\n",
      "('2024-11-14T151906', '-0800')\n"
     ]
    }
   ],
   "source": [
    "import os\n",
    "import sys\n",
    "import numpy as np\n",
    "import pandas as pd\n",
    "from pathlib import Path\n",
    "import scipy.signal as signal\n",
    "import librosa\n",
    "import matplotlib.pyplot as plt\n",
    "import seaborn as sns\n",
    "import warnings\n",
    "\n",
    "cwd = os.getcwd()\n",
    "sys.path.insert(0, os.path.abspath(os.path.dirname(cwd)))\n",
    "\n",
    "import phonlab as phon\n",
    "print(phon.__name__,phon.__version__)\n",
    "print(phon.get_timestamp_now())\n",
    "\n",
    "from audiolabel import read_label   # Ronald Sprouse's audiolabel library - to read TextGrid files\n"
   ]
  },
  {
   "cell_type": "code",
   "execution_count": 2,
   "id": "9209696c-41eb-4e50-a268-85086980e932",
   "metadata": {},
   "outputs": [
    {
     "name": "stdout",
     "output_type": "stream",
     "text": [
      "Found 0 TextGrid files.\n"
     ]
    },
    {
     "data": {
      "text/html": [
       "<div>\n",
       "<style scoped>\n",
       "    .dataframe tbody tr th:only-of-type {\n",
       "        vertical-align: middle;\n",
       "    }\n",
       "\n",
       "    .dataframe tbody tr th {\n",
       "        vertical-align: top;\n",
       "    }\n",
       "\n",
       "    .dataframe thead th {\n",
       "        text-align: right;\n",
       "    }\n",
       "</style>\n",
       "<table border=\"1\" class=\"dataframe\">\n",
       "  <thead>\n",
       "    <tr style=\"text-align: right;\">\n",
       "      <th></th>\n",
       "      <th>relpath</th>\n",
       "      <th>fname</th>\n",
       "      <th>barename</th>\n",
       "    </tr>\n",
       "  </thead>\n",
       "  <tbody>\n",
       "  </tbody>\n",
       "</table>\n",
       "</div>"
      ],
      "text/plain": [
       "Empty DataFrame\n",
       "Columns: [relpath, fname, barename]\n",
       "Index: []"
      ]
     },
     "execution_count": 2,
     "metadata": {},
     "output_type": "execute_result"
    }
   ],
   "source": [
    "mandarin = Path(\n",
    "    '/Volumes/KJohnson/Corpora/asc/corpus'\n",
    ")\n",
    "\n",
    "# get a dataframe listing all of the TextGrid files in the database\n",
    "tgdf = phon.dir2df(mandarin, fnpat='.TextGrid$', addcols=['barename'])\n",
    "print(f'Found {len(tgdf)} TextGrid files.')\n",
    "\n",
    "tgdf"
   ]
  },
  {
   "cell_type": "code",
   "execution_count": 3,
   "id": "acb6abcc-26e6-4e2f-a5c2-42e661609df3",
   "metadata": {},
   "outputs": [
    {
     "name": "stdout",
     "output_type": "stream",
     "text": [
      "f001\n",
      "f002\n",
      "f003\n",
      "f004\n",
      "f005\n",
      "m001\n",
      "m002\n",
      "m003\n",
      "m004\n",
      "m005\n"
     ]
    },
    {
     "data": {
      "text/html": [
       "<div>\n",
       "<style scoped>\n",
       "    .dataframe tbody tr th:only-of-type {\n",
       "        vertical-align: middle;\n",
       "    }\n",
       "\n",
       "    .dataframe tbody tr th {\n",
       "        vertical-align: top;\n",
       "    }\n",
       "\n",
       "    .dataframe thead th {\n",
       "        text-align: right;\n",
       "    }\n",
       "</style>\n",
       "<table border=\"1\" class=\"dataframe\">\n",
       "  <thead>\n",
       "    <tr style=\"text-align: right;\">\n",
       "      <th></th>\n",
       "      <th>sec</th>\n",
       "      <th>f0</th>\n",
       "      <th>rms</th>\n",
       "      <th>c</th>\n",
       "      <th>probv</th>\n",
       "      <th>voiced</th>\n",
       "      <th>vuv</th>\n",
       "      <th>file</th>\n",
       "    </tr>\n",
       "  </thead>\n",
       "  <tbody>\n",
       "    <tr>\n",
       "      <th>0</th>\n",
       "      <td>0.02</td>\n",
       "      <td>96.774194</td>\n",
       "      <td>0.000077</td>\n",
       "      <td>0.301661</td>\n",
       "      <td>0.015029</td>\n",
       "      <td>False</td>\n",
       "      <td>uv</td>\n",
       "      <td>f001001_01.wav</td>\n",
       "    </tr>\n",
       "    <tr>\n",
       "      <th>1</th>\n",
       "      <td>0.03</td>\n",
       "      <td>129.032258</td>\n",
       "      <td>0.000094</td>\n",
       "      <td>0.360428</td>\n",
       "      <td>0.026731</td>\n",
       "      <td>False</td>\n",
       "      <td>uv</td>\n",
       "      <td>f001001_01.wav</td>\n",
       "    </tr>\n",
       "    <tr>\n",
       "      <th>2</th>\n",
       "      <td>0.04</td>\n",
       "      <td>169.014085</td>\n",
       "      <td>0.000095</td>\n",
       "      <td>0.303916</td>\n",
       "      <td>0.015369</td>\n",
       "      <td>False</td>\n",
       "      <td>uv</td>\n",
       "      <td>f001001_01.wav</td>\n",
       "    </tr>\n",
       "    <tr>\n",
       "      <th>3</th>\n",
       "      <td>0.05</td>\n",
       "      <td>342.857143</td>\n",
       "      <td>0.000100</td>\n",
       "      <td>0.354015</td>\n",
       "      <td>0.025114</td>\n",
       "      <td>False</td>\n",
       "      <td>uv</td>\n",
       "      <td>f001001_01.wav</td>\n",
       "    </tr>\n",
       "    <tr>\n",
       "      <th>4</th>\n",
       "      <td>0.06</td>\n",
       "      <td>244.897959</td>\n",
       "      <td>0.000102</td>\n",
       "      <td>0.342097</td>\n",
       "      <td>0.022356</td>\n",
       "      <td>False</td>\n",
       "      <td>uv</td>\n",
       "      <td>f001001_01.wav</td>\n",
       "    </tr>\n",
       "  </tbody>\n",
       "</table>\n",
       "</div>"
      ],
      "text/plain": [
       "    sec          f0       rms         c     probv  voiced vuv            file\n",
       "0  0.02   96.774194  0.000077  0.301661  0.015029   False  uv  f001001_01.wav\n",
       "1  0.03  129.032258  0.000094  0.360428  0.026731   False  uv  f001001_01.wav\n",
       "2  0.04  169.014085  0.000095  0.303916  0.015369   False  uv  f001001_01.wav\n",
       "3  0.05  342.857143  0.000100  0.354015  0.025114   False  uv  f001001_01.wav\n",
       "4  0.06  244.897959  0.000102  0.342097  0.022356   False  uv  f001001_01.wav"
      ]
     },
     "execution_count": 3,
     "metadata": {},
     "output_type": "execute_result"
    }
   ],
   "source": [
    "speaker=\"\"\n",
    "rng = np.random.default_rng()\n",
    "\n",
    "bigdf = pd.DataFrame()\n",
    "\n",
    "for row in tgdf.itertuples():   # loop through all of the label files\n",
    "    if rng.random()<0.75:\n",
    "        continue\n",
    "    \n",
    "    if speaker != row.relpath:\n",
    "        speaker = row.relpath\n",
    "        print(f\"{speaker}\")   \n",
    "\n",
    "\n",
    "    wav = f'{row.barename}.wav'\n",
    "    wavname = str(mandarin / row.relpath / wav)  # construct the name of the wav file\n",
    "\n",
    "    f0df = phon.get_f0(wavname, chan = 0, pre = 0.96)\n",
    "    eggdf = phon.egg2oq(wavname, egg_channel=1,hop_dur = 0.01)\n",
    "    f0df['vuv'] = 'uv'\n",
    "    f0df['vuv'] = f0df['vuv'].where(np.isnan(eggdf.OQ), 'v')\n",
    "    f0df['file'] = wav\n",
    "\n",
    "    if bigdf.empty:\n",
    "        bigdf = f0df\n",
    "    else:\n",
    "        bigdf = pd.concat([bigdf,f0df],ignore_index=True)\n",
    "\n",
    "\n",
    "bigdf.head()"
   ]
  },
  {
   "cell_type": "code",
   "execution_count": null,
   "id": "59fd19df-92c6-44a5-b5f4-10026fe94339",
   "metadata": {},
   "outputs": [],
   "source": [
    "print(f\"N = {len(bigdf)}\")\n",
    "print(bigdf.groupby('vuv').c.mean())\n",
    "print(bigdf.groupby('vuv').rms.mean())\n",
    "\n",
    "test_data = bigdf.groupby('vuv').sample(10000,replace=True)\n",
    "sns.kdeplot(test_data,x=\"rms\",y=\"c\",hue=(\"vuv\"))"
   ]
  },
  {
   "cell_type": "code",
   "execution_count": null,
   "id": "c911f612-8aa4-41a3-8c4e-198efeca244f",
   "metadata": {},
   "outputs": [],
   "source": [
    "from sklearn.linear_model import LogisticRegression\n",
    "\n",
    "def warn(*args, **kwargs):   # this is a hack to avoid getting so many printed warning messages\n",
    "    pass\n",
    "warnings.warn = warn\n",
    "\n",
    "# select a test set randomly - no priors, each phone is equally likely\n",
    "test_data = bigdf.groupby('vuv').sample(500000,replace=True)\n",
    "test_data['vuv'] = test_data.apply(lambda row: \"uv\" if row['rms'] < 0.19 and row['vuv'] == 'v' else row['vuv'], axis=1)\n",
    "\n",
    "X = test_data[['rms','c']].to_numpy()\n",
    "lm = LogisticRegression(class_weight='balanced').fit(X,test_data[\"vuv\"])\n",
    "score = lm.score(X,test_data['vuv'])\n",
    "\n",
    "print(score)\n",
    "print(f\"model is:  {lm.intercept_[0]:3.2f} + {lm.coef_[0,0]:3.2f}*rms + {lm.coef_[0,1]:3.2f}*c\")"
   ]
  },
  {
   "cell_type": "code",
   "execution_count": null,
   "id": "87f63fe0-d819-45d1-b8cc-1b0c54249f80",
   "metadata": {},
   "outputs": [],
   "source": [
    "test_data = bigdf.groupby('vuv').sample(10)\n",
    "odds = np.exp(-7.2 + (9.45*test_data.rms) + (10*test_data.c))  # logistic formula\n",
    "test_data['pv'] = odds / (1 + odds)\n",
    "test_data['voiced'] = test_data['pv'].apply(lambda x: 'true' if x >0.5 else 'false')\n",
    "\n",
    "test_data\n"
   ]
  },
  {
   "cell_type": "code",
   "execution_count": null,
   "id": "5682a87e-6381-4300-8dcd-d27136f399fb",
   "metadata": {},
   "outputs": [],
   "source": [
    "df = phon.get_f0(\"sf3_cln.wav\")"
   ]
  }
 ],
 "metadata": {
  "kernelspec": {
   "display_name": "Python 3 (ipykernel)",
   "language": "python",
   "name": "python3"
  },
  "language_info": {
   "codemirror_mode": {
    "name": "ipython",
    "version": 3
   },
   "file_extension": ".py",
   "mimetype": "text/x-python",
   "name": "python",
   "nbconvert_exporter": "python",
   "pygments_lexer": "ipython3",
   "version": "3.11.10"
  }
 },
 "nbformat": 4,
 "nbformat_minor": 5
}
